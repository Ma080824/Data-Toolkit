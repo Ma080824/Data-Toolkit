{
  "nbformat": 4,
  "nbformat_minor": 0,
  "metadata": {
    "colab": {
      "provenance": []
    },
    "kernelspec": {
      "name": "python3",
      "display_name": "Python 3"
    },
    "language_info": {
      "name": "python"
    }
  },
  "cells": [
    {
      "cell_type": "markdown",
      "source": [
        "# Data Toolkit_Assignmennt"
      ],
      "metadata": {
        "id": "_B8kvkzJwz24"
      }
    },
    {
      "cell_type": "markdown",
      "source": [
        "###Q1.  What is NumPy, and why is it widely used in Python?"
      ],
      "metadata": {
        "id": "IYcq_MSBxEuz"
      }
    },
    {
      "cell_type": "markdown",
      "source": [
        "**ANS.**\n",
        "\n",
        "NumPy, short for Numerical Python, is a powerful library in Python used for numerical computing. It's widely adopted for its efficiency in handling large datasets and performing mathematical operations.\n",
        "\n",
        "**Why it is widely used in python:**\n",
        "\n",
        "**i. Fast & Efficient Computation –** NumPy provides multi-dimensional arrays (ndarray), which are more efficient than Python lists for numerical operations.\n",
        "\n",
        "**ii. Rich Mathematical Functions –** Includes powerful tools for linear algebra, statistics, Fourier transforms, and more.\n",
        "\n",
        "**iii. Vectorized Operations –** Performs element-wise calculations without the need for loops, making computations much faster.\n",
        "\n",
        "**iv.Memory Optimization –** Uses contiguous memory blocks, which speeds up array operations compared to standard Python lists.\n",
        "\n",
        "**v. Interoperability –** Works seamlessly with other libraries like Pandas, SciPy, and TensorFlow.\n",
        "\n",
        "**vi.Support for Matrix Operations –** Essential for data science, AI, and engineering applications.\n",
        "\n"
      ],
      "metadata": {
        "id": "p-1lkMMGxnB0"
      }
    },
    {
      "cell_type": "markdown",
      "source": [
        "###Q2. How does broadcasting work in NumPy?"
      ],
      "metadata": {
        "id": "HOC5GXL1zACQ"
      }
    },
    {
      "cell_type": "markdown",
      "source": [
        "**ANS.**\n",
        "\n",
        "NumPy's **broadcasting** allows arrays of different shapes to be operated on together without needing explicit loops or manual resizing. This makes calculations more efficient and elegant.\n",
        "\n",
        "**How Broadcasting Works:**\n",
        "\n",
        "When performing element-wise operations, NumPy automatically expands smaller arrays to match the shape of larger arrays. Instead of duplicating data, it applies operations seamlessly.\n",
        "\n",
        "**Broadcasting Rules:**\n",
        "\n",
        "**i. Dimensions are compared from right to left.**\n",
        "\n",
        "**ii. Arrays are compatible if:**\n",
        "- They have the same shape OR\n",
        "- One of the dimensions is 1, allowing it to stretch.\n",
        "\n",
        "**NumPy automatically expands the smaller array along the `1` dimension.**\n",
        "\n"
      ],
      "metadata": {
        "id": "M8TyMb970uYj"
      }
    },
    {
      "cell_type": "code",
      "execution_count": null,
      "metadata": {
        "id": "ZlgGaaIkwmCA"
      },
      "outputs": [],
      "source": [
        "import numpy as np"
      ]
    },
    {
      "cell_type": "code",
      "source": [
        "### Scalar Brodcasting:\n",
        "arr = np.array([1, 2, 3])\n",
        "X = arr*4"
      ],
      "metadata": {
        "id": "XKmiNpWy5zmr"
      },
      "execution_count": null,
      "outputs": []
    },
    {
      "cell_type": "code",
      "source": [
        "X"
      ],
      "metadata": {
        "colab": {
          "base_uri": "https://localhost:8080/"
        },
        "id": "Jr-fII-v6Hu1",
        "outputId": "21c59c24-2759-4ed5-97ac-5691bde95a70"
      },
      "execution_count": null,
      "outputs": [
        {
          "output_type": "execute_result",
          "data": {
            "text/plain": [
              "array([ 4,  8, 12])"
            ]
          },
          "metadata": {},
          "execution_count": 3
        }
      ]
    },
    {
      "cell_type": "code",
      "source": [
        "### Broadcasting a samaller Array\n",
        "ar = np.array([[1,2,3],[8,5,6]])\n",
        "arr = np.array([9,7,4])"
      ],
      "metadata": {
        "id": "sjOJAtKP6I9u"
      },
      "execution_count": null,
      "outputs": []
    },
    {
      "cell_type": "code",
      "source": [
        "X = ar*arr\n",
        "X"
      ],
      "metadata": {
        "colab": {
          "base_uri": "https://localhost:8080/"
        },
        "id": "ur2hNkUN6zTx",
        "outputId": "7e3dca81-1357-43a8-e46d-311545c86b46"
      },
      "execution_count": null,
      "outputs": [
        {
          "output_type": "execute_result",
          "data": {
            "text/plain": [
              "array([[ 9, 14, 12],\n",
              "       [72, 35, 24]])"
            ]
          },
          "metadata": {},
          "execution_count": 6
        }
      ]
    },
    {
      "cell_type": "code",
      "source": [
        "### Expending a 2D array\n",
        "arr1 = ([[4],[9],[7]])\n",
        "arr2 = np.array([9,7,4])\n",
        "Y = arr1 + arr2\n",
        "Y"
      ],
      "metadata": {
        "colab": {
          "base_uri": "https://localhost:8080/"
        },
        "id": "4OG0uJCI64L9",
        "outputId": "fe5b5429-1e1d-4a24-8731-4d0cf9ea33c2"
      },
      "execution_count": null,
      "outputs": [
        {
          "output_type": "execute_result",
          "data": {
            "text/plain": [
              "array([[13, 11,  8],\n",
              "       [18, 16, 13],\n",
              "       [16, 14, 11]])"
            ]
          },
          "metadata": {},
          "execution_count": 7
        }
      ]
    },
    {
      "cell_type": "markdown",
      "source": [
        "###Q3.  What is a Pandas DataFrame?"
      ],
      "metadata": {
        "id": "Bnt4GyhM7xK7"
      }
    },
    {
      "cell_type": "markdown",
      "source": [
        "**ANS.**\n",
        "\n",
        "\n",
        "A **Pandas DataFrame** is a powerful, tabular data structure in Python that is widely used for data manipulation and analysis. Think of it as an Excel spreadsheet or SQL table in Python—organized into rows and columns.\n",
        "\n",
        "**Key Features of a DataFrame:**\n",
        "\n",
        "**i. Tabular Structure –** Stores data in rows and columns, making it easy to work with structured datasets.\n",
        "\n",
        "**ii. Indexing & Labeling –** Each row has an index, and each column has a label, allowing for intuitive data selection.\n",
        "\n",
        "**iii. Column Operations –** You can filter, transform, or analyze individual columns.\n",
        "\n",
        "**iv. Handling Missing Data –**Supports functions like .fillna(), .dropna() to manage missing values.\n",
        "\n",
        "**v. Vectorized Operations –** Performs calculations efficiently without explicit loops.\n",
        "\n",
        "**vi. Interoperability –** Works well with other libraries like NumPy and Matplotlib.\n"
      ],
      "metadata": {
        "id": "ZLBiDbtu706t"
      }
    },
    {
      "cell_type": "markdown",
      "source": [
        "###Q4.  Explain the use of the groupby() method in Pandas"
      ],
      "metadata": {
        "id": "AXfSrUSI8_64"
      }
    },
    {
      "cell_type": "markdown",
      "source": [
        "**ANS.**\n",
        "\n",
        "The `groupby()` method in Pandas is used to group data based on specific criteria and perform aggregate operations like sum, mean, count, etc. It's incredibly useful for analyzing trends, summarizing datasets, and uncovering insights.\n",
        "\n",
        "**How Does groupby() Work?**\n",
        "\n",
        "**i. Splits the Data –** Divides the dataset into groups based on a column.\n",
        "\n",
        "**ii. Applies a Function –** Performs operations like aggregation (sum(), mean(), count()), transformation, or filtering.\n",
        "\n",
        "**iii. Combines the Results –**Returns the processed data.\n"
      ],
      "metadata": {
        "id": "RFLzOXvu-VvH"
      }
    },
    {
      "cell_type": "code",
      "source": [
        "import pandas as pd\n",
        "\n",
        "data = {\n",
        "    \"Brand\": [\"RC18\", \"RC18\", \"Puma\", \"Adidas\", \"Adidas\"],\n",
        "    \"Category\": [\"Luxury\", \"Affordable\", \"Sporty\", \"Luxury\", \"Affordable\"],\n",
        "    \"Price\": [2500, 1200, 1800, 3000, 1100]\n",
        "}\n",
        "\n",
        "df = pd.DataFrame(data)\n",
        "X = df.groupby(\"Category\")[\"Price\"].mean ()\n",
        "print(X)"
      ],
      "metadata": {
        "colab": {
          "base_uri": "https://localhost:8080/"
        },
        "id": "3h6WynzA7pTB",
        "outputId": "7423d9e4-5c89-4311-b8de-9ae538c9107c"
      },
      "execution_count": null,
      "outputs": [
        {
          "output_type": "stream",
          "name": "stdout",
          "text": [
            "Category\n",
            "Affordable    1150.0\n",
            "Luxury        2750.0\n",
            "Sporty        1800.0\n",
            "Name: Price, dtype: float64\n"
          ]
        }
      ]
    },
    {
      "cell_type": "markdown",
      "source": [
        "###Q5. Why is Seaborn preferred for statistical visualizations ?"
      ],
      "metadata": {
        "id": "U3KivwmkWTUu"
      }
    },
    {
      "cell_type": "markdown",
      "source": [
        "**ANS.**\n",
        "\n",
        "Seaborn is often preferred for statistical visualizations because it simplifies complex plotting while maintaining aesthetic appeal. Here’s why data scientists and analysts love it:\n",
        "\n",
        "- **Built-in Statistical Features –** Seaborn automatically performs statistical aggregation, making it easy to plot distributions, regressions, and categorical relationships.\n",
        "- **Beautiful Default Styling –** Seaborn produces polished, professional-looking charts with minimal customization.\n",
        "- **Integration with Pandas & NumPy –** It works seamlessly with DataFrames, making it effortless to visualize structured data.\n",
        "- **Automatic Handling of Subplots –** Seaborn simplifies multi-plot layouts, helping users analyze trends across different dimensions.\n",
        "- **Advanced Functionality –**It includes features like heatmaps, violin plots, and pair plots, which are essential for exploratory data analysis.\n"
      ],
      "metadata": {
        "id": "kJuX15gaWov4"
      }
    },
    {
      "cell_type": "markdown",
      "source": [
        "###Q6. What are the differences between NumPy arrays and Python lists?"
      ],
      "metadata": {
        "id": "BOsz4XTgXOiO"
      }
    },
    {
      "cell_type": "markdown",
      "source": [
        "**ANS.**\n",
        "\n",
        " NumPy arrays and Python lists are both used to store collections of data, but they have distinct differences that make NumPy arrays far superior for numerical computing:\n",
        "\n",
        "### **Key Differences**\n",
        "| Feature         | Python List | NumPy Array |\n",
        "|---------------|------------|-------------|\n",
        "| **Performance** | Slower (element-wise operations require loops) | Faster (vectorized operations optimize execution) |\n",
        "| **Memory Efficiency** | Higher memory usage (stores heterogeneous types) | Lower memory usage (stores homogeneous data in a contiguous block) |\n",
        "| **Operations** | No built-in mathematical operations | Supports element-wise math operations (addition, multiplication, etc.) |\n",
        "| **Data Type** | Stores multiple data types in one list | Requires uniform data type (int, float, etc.) for efficiency |\n",
        "| **Multi-Dimensional Support** | Only 1D lists; nested lists can be used but are inefficient | Supports multi-dimensional arrays for matrix operations |\n",
        "| **Built-in Functions** | Limited built-in functions for manipulation | Offers powerful functions like `np.linalg`, broadcasting, and vectorized computations |\n",
        "\n"
      ],
      "metadata": {
        "id": "BA9XrhItXWis"
      }
    },
    {
      "cell_type": "markdown",
      "source": [
        "###Q7.  What is a heatmap, and when should it be used ?\n"
      ],
      "metadata": {
        "id": "4KkKRHFfX2J9"
      }
    },
    {
      "cell_type": "markdown",
      "source": [
        "**ANS.**\n",
        "\n",
        "A heatmap is a type of visualization that represents data values using color gradients. It is commonly used for identifying patterns, trends, and intensities in complex datasets. The darker or more intense the color, the higher the value, making it easier to spot correlations and anomalies.\n",
        "\n",
        "**When to Use a Heatmap :**\n",
        "\n",
        "- **Correlation Analysis –** To visualize relationships between variables, like tracking fashion sales across different seasons.\n",
        "- **Market Trends –** Identifying demand hotspots for RC18’s clothing based on customer preferences.\n",
        "- **Matrix Data Representation –** Useful for NumPy’s linalg module when exploring numerical relationships in matrix computations.\n",
        "-**Website User Behavior –** If you plan to optimize your brand’s digital presence, heatmaps can help analyze user engagement.\n",
        "- **Inventory Optimization –** Tracking stock movement and demand fluctuations across different product lines.\n",
        "\n"
      ],
      "metadata": {
        "id": "n5C72TWyX8RH"
      }
    },
    {
      "cell_type": "markdown",
      "source": [
        "###Q8.  What does the term “vectorized operation” mean in NumPy ?"
      ],
      "metadata": {
        "id": "ilgosr3_Yuum"
      }
    },
    {
      "cell_type": "markdown",
      "source": [
        "**ANS.**\n",
        "\n",
        "In NumPy, vectorized operations refer to performing mathematical computations on entire arrays without explicit loops. Instead of iterating element by element like in standard Python lists, NumPy applies operations directly to entire arrays using optimized C-based implementations, making calculations faster and more efficient.\n",
        "\n",
        "**Why Vectorized Operations Matter**\n",
        "\n",
        "- **Speed –** Eliminates Python loops, drastically improving performance.\n",
        "\n",
        "- **Simplicity –** Cleaner, more readable code compared to manual looping.\n",
        "\n",
        "- **Memory Efficiency –** Uses contiguous memory blocks, reducing overhead.\n",
        "\n",
        "- **Parallel Processing –** Takes advantage of optimized CPU operations for large datasets.\n"
      ],
      "metadata": {
        "id": "-QpZK_nCY6T1"
      }
    },
    {
      "cell_type": "code",
      "source": [
        "### loops based computation:\n",
        "\n",
        "data = [4,5,2,3,6]\n",
        "sq_list = [x**2 for x in data ]"
      ],
      "metadata": {
        "id": "-uVHFGjD_JGv"
      },
      "execution_count": 1,
      "outputs": []
    },
    {
      "cell_type": "code",
      "source": [
        "print(sq_list)"
      ],
      "metadata": {
        "colab": {
          "base_uri": "https://localhost:8080/"
        },
        "id": "zIE8IqAYZwGc",
        "outputId": "1ec386cd-673b-413d-de41-e8881ed0d691"
      },
      "execution_count": 2,
      "outputs": [
        {
          "output_type": "stream",
          "name": "stdout",
          "text": [
            "[16, 25, 4, 9, 36]\n"
          ]
        }
      ]
    },
    {
      "cell_type": "code",
      "source": [
        "import numpy as np"
      ],
      "metadata": {
        "id": "f_JeuCMQZ1NT"
      },
      "execution_count": 3,
      "outputs": []
    },
    {
      "cell_type": "code",
      "source": [
        "### Element wise compitation without loop\n",
        "arr = np.array([8,4,9,1,3])\n",
        "X = arr**2\n",
        "X"
      ],
      "metadata": {
        "colab": {
          "base_uri": "https://localhost:8080/"
        },
        "id": "a__7WpSpaEJZ",
        "outputId": "13a916a8-a38d-4f25-d970-f1e3c732875c"
      },
      "execution_count": 6,
      "outputs": [
        {
          "output_type": "execute_result",
          "data": {
            "text/plain": [
              "array([64, 16, 81,  1,  9])"
            ]
          },
          "metadata": {},
          "execution_count": 6
        }
      ]
    },
    {
      "cell_type": "markdown",
      "source": [
        "###Q9.  How does Matplotlib differ from Plotly?"
      ],
      "metadata": {
        "id": "DZKiIqG2aun2"
      }
    },
    {
      "cell_type": "markdown",
      "source": [
        "**ANS.**\n",
        "\n",
        "Matplotlib and Plotly are both powerful visualization libraries in Python, but they differ significantly in their **functionality, interactivity, and ease of use**. Here's how they compare:\n",
        "\n",
        "### **Key Differences**\n",
        "|**Feature** | **Matplotlib** | **Plotly** |\n",
        "|---------|-------------|-------------|\n",
        "| **Interactivity** | Static plots (unless used with `%matplotlib notebook`) | Interactive plots with hover effects, zoom, and click events |\n",
        "| **Customization** | Highly customizable, but requires more code | Easier customization with built-in themes and presets |\n",
        "| **Ease of Use** | More manual setup needed | Simplifies complex visualizations with automatic scaling |\n",
        "| **Performance** | Faster for static plots | Slower due to interactivity but better for dashboards |\n",
        "| **Supported Formats** | Exports static images (PNG, PDF, SVG) | Interactive HTML, JSON, and static formats |\n",
        "| **Best For** | **Scientific plotting, academic papers, static graphs** | **Web dashboards, presentations, interactive reports** |\n",
        "\n",
        "\n"
      ],
      "metadata": {
        "id": "qxsEeqmUa65z"
      }
    },
    {
      "cell_type": "markdown",
      "source": [
        "###Q10.  What is the significance of hierarchical indexing in Pandas?"
      ],
      "metadata": {
        "id": "Zcc-rO22ba-2"
      }
    },
    {
      "cell_type": "markdown",
      "source": [
        "**ANS.**\n",
        "\n",
        "Hierarchical indexing in Pandas is a powerful feature that allows you to work with multi-level row or column labels, making it easier to organize and access complex datasets. It's especially useful when dealing with structured data like sales trends across multiple regions and categories, which could be beneficial for RC18's market analysis.\n",
        "\n",
        "**Significance of Hierarchical Indexing**\n",
        "\n",
        "- **Multi-Dimensional Organization –** Helps structure data into multiple levels, making nested data more accessible.\n",
        "- **Efficient Grouping & Aggregation –**\n",
        " Enables operations like sum, mean, or filtering across different hierarchy levels.\n",
        "\n",
        "- **Enhanced Data Manipulation –** Allows slicing across different levels for easier querying.\n",
        "\n",
        "- **Improves Readability –** Creates a structured view without requiring separate DataFrames for each category.\n",
        "\n"
      ],
      "metadata": {
        "id": "db8RHILZbnJi"
      }
    },
    {
      "cell_type": "markdown",
      "source": [
        "###Q11. What is the role of Seaborn’s pairplot() function?"
      ],
      "metadata": {
        "id": "1BcL5716cOB2"
      }
    },
    {
      "cell_type": "markdown",
      "source": [
        "**ANS.**\n",
        "\n",
        "Seaborn's pairplot() function is a powerful tool for exploratory data analysis, allowing you to visualize relationships between multiple numerical features in a dataset. It creates a grid of scatterplots and histograms, making it easy to detect correlations, clusters, and outliers.\n",
        "\n",
        "**Role & Benefits of `pairplot()`**\n",
        "\n",
        "- **Visualizes Pairwise Relationships –** Generates scatterplots between all numeric columns to reveal patterns.\n",
        "\n",
        "- **Shows Distributions –** Diagonal plots display individual feature distributions using histograms or KDE plots.\n",
        "\n",
        "- **Supports Categorical Coloring –** Can color-code points based on categorical labels, helping analyze trends across different product categories (useful for RC18's fashion branding).\n",
        "\n",
        "- **Quick & Efficient –** Requires minimal code to get a broad understanding of data relationships.\n"
      ],
      "metadata": {
        "id": "Xf5jXB5KcZzP"
      }
    },
    {
      "cell_type": "markdown",
      "source": [
        "###Q12. What is the purpose of the describe() function in Pandas?"
      ],
      "metadata": {
        "id": "-9Us9zOCc7Dr"
      }
    },
    {
      "cell_type": "markdown",
      "source": [
        "**ANS.**\n",
        "\n",
        "The `describe()` function in Pandas provides summary statistics for numerical columns in a DataFrame, helping you quickly understand key metrics about your dataset.\n",
        "\n",
        "**Purpose & Benefits of `describe()`**\n",
        "\n",
        "- **Generates Descriptive Stats –** Provides count, mean, standard deviation, min, max, and quartiles.\n",
        "\n",
        "- **Quick Data Overview –** Helps identify trends, outliers, and distribution characteristics.\n",
        "\n",
        "- **Supports Customization –** Works for both numerical and categorical data when used with include='all'.\n",
        "- **Ideal for Exploratory Analysis –** Useful for analyzing fashion sales trends or customer behaviors for RC18.\n"
      ],
      "metadata": {
        "id": "5RVOQyXudC93"
      }
    },
    {
      "cell_type": "markdown",
      "source": [
        "###Q13. Why is handling missing data important in Pandas?\n"
      ],
      "metadata": {
        "id": "Is9Bg7DTdlNU"
      }
    },
    {
      "cell_type": "markdown",
      "source": [
        "**ANS.**\n",
        "\n",
        "Handling missing data in Pandas is crucial because it ensures the integrity and reliability of your dataset. In real-world scenarios—whether it's fashion sales trends, inventory tracking for RC18, or customer preferences—missing data can distort analysis and lead to incorrect conclusions.\n",
        "\n",
        "**Why Handling Missing Data Matters**\n",
        "\n",
        " **i. Prevents Biased Insights –** Incomplete data can misrepresent trends, affecting decisions.\n",
        "\n",
        "**ii. Maintains Dataset Accuracy –** Ensures calculations, models, and reports are based on complete information.\n",
        "\n",
        "**iii. Enhances Machine Learning Models –** Many ML algorithms struggle with missing values, leading to poor predictions.\n",
        "\n",
        "**iv. Optimizes Business Decisions –** In fashion retail, missing stock or sales data could lead to inventory mismanagement.\n",
        "\n",
        "Common Methods for Handling Missing Data\n",
        "\n",
        "- **Removing Missing Entries –** Use .dropna() when missing values don’t significantly impact analysis.\n",
        "\n",
        "- **Filling Missing Data –** Methods like .fillna(value) replace gaps with mean, median, mode, or custom values.\n",
        "\n",
        "- **Interpolation –** Predicts missing values based on trends in existing data (.interpolate()).\n",
        "\n",
        "- **Using Advanced Imputation –** Machine learning techniques can intelligently replace missing data.\n",
        "\n",
        "\n"
      ],
      "metadata": {
        "id": "8RcTTj5adlHC"
      }
    },
    {
      "cell_type": "markdown",
      "source": [
        "###Q14. What are the benefits of using Plotly for data visualization?"
      ],
      "metadata": {
        "id": "SNQ1yy5He6oJ"
      }
    },
    {
      "cell_type": "markdown",
      "source": [
        "**ANS.**\n",
        "\n",
        "Plotly is an excellent choice for data visualization, especially when you need interactive, high-quality, and web-friendly charts. It provides a range of benefits that make it a go-to tool for dynamic, data-driven storytelling.\n",
        "\n",
        "**Benefits of Using Plotly**\n",
        "\n",
        "- **Interactivity –** Unlike static libraries like Matplotlib, Plotly offers zoom, hover effects, clickable elements, and dynamic legends.\n",
        "- **Highly Customizable –** Supports themes, annotations, and styling, making visualizations more intuitive and engaging.\n",
        "\n",
        "- **Web & Dashboard Integration –** Works seamlessly with Dash, making it ideal for business analytics platforms.\n",
        "\n",
        "- **Multiple Chart Types –** Offers scatter plots, line charts, 3D plots, choropleth maps, and even real-time streaming charts.\n",
        "\n",
        "- **Works Across Programming Environments –**  Compatible with Python, R, and JavaScript, making it versatile for different workflows.\n",
        "\n",
        "- **Great for Big Data –** Handles large datasets efficiently using WebGL-based rendering.\n"
      ],
      "metadata": {
        "id": "6pZdnklPfC9N"
      }
    },
    {
      "cell_type": "markdown",
      "source": [
        "###Q15. How does NumPy handle multidimensional arrays?"
      ],
      "metadata": {
        "id": "nbjHOeB9fyFy"
      }
    },
    {
      "cell_type": "markdown",
      "source": [
        "**ANS.**\n",
        "\n",
        "NumPy efficiently handles multidimensional arrays using its ndarray (N-dimensional array) structure, making complex matrix manipulations straightforward and highly optimized.\n",
        "\n",
        "**Key Features of Multidimensional Arrays in NumPy**\n",
        "\n",
        "- **Efficient Storage & Access –** Uses contiguous memory blocks for rapid indexing and computation.\n",
        "\n",
        "- **Shape & Dimensionality Management –** Supports .shape to check dimensions and .reshape() for modifying structures.\n",
        "\n",
        "- **Broadcasting –** Allows operations on arrays of different shapes without explicit loops.\n",
        "\n",
        "- **Vectorized Operations –** Performs element-wise arithmetic without slow Python loops.\n",
        "\n",
        "- **Advanced Slicing & Indexing –** Enables row, column, and subarray selection, crucial for matrix computations.\n",
        "\n",
        "- **Integration with Linear Algebra –** Works seamlessly with NumPy’s linalg module for matrix transformations and calculations.\n"
      ],
      "metadata": {
        "id": "D9NNngMwfx5v"
      }
    },
    {
      "cell_type": "markdown",
      "source": [
        "###Q16. What is the role of Bokeh in data visualization?"
      ],
      "metadata": {
        "id": "sJkVVRXdglwC"
      }
    },
    {
      "cell_type": "markdown",
      "source": [
        "**ANS.**\n",
        "\n",
        "Bokeh is a powerful Python library designed for interactive, web-friendly data visualization. It specializes in creating dynamic, scalable charts and dashboards, making it ideal for exploring and presenting complex datasets.\n",
        "\n",
        "**Key Roles of Bokeh in Data Visualization:**\n",
        "\n",
        "- **Interactivity –** Supports hover tools, zooming, panning, and dynamic updates.\n",
        "- **Web Integration –** Generates HTML and JavaScript-based visualizations, perfect for dashboards.\n",
        "- **High Performance –** Handles large datasets efficiently using WebGL rendering.\n",
        "- **Versatile Chart Options –** Supports scatter plots, bar charts, histograms, heatmaps, and even geospatial mapping.\n",
        "\n",
        "- **Flexibility in Customization –** Allows deep control over plot aesthetics, making visuals highly engaging.\n",
        "\n",
        "- **Ideal for Dashboard Creation –** Works well with Flask, Django, and Jupyter for interactive analytics.\n"
      ],
      "metadata": {
        "id": "q8FVlqq7glsk"
      }
    },
    {
      "cell_type": "markdown",
      "source": [
        "###Q17.  Explain the difference between apply() and map() in Pandas"
      ],
      "metadata": {
        "id": "7BvPaMevhVfq"
      }
    },
    {
      "cell_type": "markdown",
      "source": [
        "**ANS.**\n",
        "In Pandas, both `apply()` and `map()` are used for **applying functions** to data, but they have key differences in their usage and flexibility.\n",
        "\n",
        "\n",
        "### **Differences Between `apply()` and `map()`**\n",
        "| Feature | `apply()` | `map()` |\n",
        "|---------|---------|---------|\n",
        "| **Scope** | Works on **both Series and DataFrames** | Works **only on Series** |\n",
        "| **Function Input** | Accepts any function, including **lambda functions** | Works with **functions, dict mappings, or Series mappings** |\n",
        "| **Row & Column Operations** | Can be used for **row-wise or column-wise** transformations (`df.apply(func, axis=1)`) | Only applies element-wise transformations |\n",
        "| **Multi-Column Handling** | Works on multiple columns in a **DataFrame** | Only works on **individual columns** |\n",
        "| **Flexibility** | More versatile for **complex transformations** | Simpler, used mainly for **single-column value mapping** |\n",
        "\n",
        "\n",
        "\n"
      ],
      "metadata": {
        "id": "GFoHulq3he0e"
      }
    },
    {
      "cell_type": "markdown",
      "source": [
        "###Q18.  What are some advanced features of NumPy?"
      ],
      "metadata": {
        "id": "9-hVrvh7h7Le"
      }
    },
    {
      "cell_type": "markdown",
      "source": [
        "**ANS.**\n",
        "\n",
        "NumPy provides advanced features that make it an essential tool for scientific computing, data analysis, and high-performance numerical operations. Since you're exploring NumPy’s linalg module and matrix manipulation, these features could be especially useful for RC18’s fashion market analysis and inventory optimization.\n",
        "\n",
        "**Advanced Features of NumPy**\n",
        "- **Broadcasting –** Enables operations on arrays of different shapes without explicit loops, improving efficiency.\n",
        "\n",
        "- **Vectorized Operations –** Applies mathematical functions across entire arrays without slow Python loops.\n",
        "- **Memory Optimization –** Uses contiguous memory blocks for faster access and reduced overhead.\n",
        "- **NumPy’s linalg Module –** Provides advanced linear algebra operations like matrix decomposition, eigenvalues, and inversion.\n",
        "- **Random Sampling (numpy.random) –** Supports generating random numbers for fashion trend simulations or statistical modeling.\n",
        "\n",
        "- **Fast Fourier Transform (numpy.fft) –** Performs signal processing for applications like pattern recognition.- Masked Arrays (numpy.ma) – Helps handle missing or invalid data efficiently.\n",
        "\n",
        "- **Structured & Record Arrays –** Supports heterogeneous data structures, useful for managing complex datasets.\n",
        "\n",
        "- **Multi-dimensional Array Manipulation (numpy.ndarray) –** Allows reshaping, stacking, and slicing large datasets for analytics.\n",
        "\n",
        "- **Parallel Computing with NumPy –** Enables multi-threading and GPU acceleration, improving performance for big data applications.\n"
      ],
      "metadata": {
        "id": "MBvvujIHh7H6"
      }
    },
    {
      "cell_type": "markdown",
      "source": [
        "###Q19.  How does Pandas simplify time series analysis?"
      ],
      "metadata": {
        "id": "qZ04eUqhivUe"
      }
    },
    {
      "cell_type": "markdown",
      "source": [
        "**ANS.**\n",
        "Pandas makes time series analysis incredibly efficient by providing powerful features for handling, transforming, and analyzing time-indexed data. This is especially useful for tracking trends, forecasting fashion demand, or optimizing inventory cycles for RC18.\n",
        "\n",
        "**Key Ways Pandas Simplifies Time Series Analysis**\n",
        "\n",
        "- **Datetime Indexing (pd.to_datetime()) –** Converts date columns into an efficient format for easy manipulation.\n",
        "\n",
        "- **Resampling (df.resample()) –** Aggregates data into different time frequencies (daily, monthly, yearly).\n",
        "\n",
        "- **Rolling Window Calculations (df.rolling()) –** Enables moving averages, smoothing out seasonal patterns.\n",
        "\n",
        "- **Time-Based Filtering & Slicing –** Allows precise date selection using .loc[], .iloc[], and .between_time().\n",
        "\n",
        "- **Period & Frequency Handling (pd.period_range()) –** Simplifies calculations based on business cycles, fiscal years, or seasons.\n",
        "- **Time Zone Handling (df.tz_localize(), df.tz_convert()) –** Manages datasets across multiple time zones for global insights.\n",
        "\n",
        "- **Missing Data Handling (df.interpolate()) –** Fills gaps intelligently for accurate trend analysis.\n",
        "\n",
        "- **Auto-Parsing Date Columns (parse_dates=True) –** Automates date conversion when reading CSV or Excel files.\n"
      ],
      "metadata": {
        "id": "hh7LIdHgiu-y"
      }
    },
    {
      "cell_type": "markdown",
      "source": [
        "###Q20.  What is the role of a pivot table in Pandas?"
      ],
      "metadata": {
        "id": "oh0EtpQHknjK"
      }
    },
    {
      "cell_type": "markdown",
      "source": [
        "**ANS.**\n",
        "\n",
        "A pivot table in Pandas is a powerful tool for summarizing, restructuring, and analyzing data efficiently. It helps transform raw data into an organized format by aggregating values based on multiple categories—perfect for tasks like fashion sales analysis or inventory tracking for RC18.\n",
        "\n",
        "**Key Roles of a Pivot Table in Pandas**\n",
        "\n",
        "- **Data Summarization –** Converts large datasets into compact, meaningful tables.\n",
        "\n",
        "- **Aggregation of Values –** Computes sum, mean, count, min/max, or custom aggregations across categories.\n",
        "\n",
        "- **Multi-Level Indexing –** Organizes data into hierarchical structures for easy navigation.\n",
        "- **Flexible Reshaping –** Allows rearrangement of columns and rows to highlight trends.\n",
        "- **Efficient Data Analysis –** Speeds up insights extraction for sales trends, customer preferences, or stock fluctuations.\n"
      ],
      "metadata": {
        "id": "vyzzKRoJkwMo"
      }
    },
    {
      "cell_type": "code",
      "source": [
        "import pandas as pd"
      ],
      "metadata": {
        "id": "2pxV1_SHlRn8"
      },
      "execution_count": 7,
      "outputs": []
    },
    {
      "cell_type": "code",
      "source": [
        "data = pd.DataFrame({\n",
        "    \"Category\":[\"luxury\",\"luxury\",\"affordable\",\"affordable\"],\n",
        "    \"Product\":[\"T-shirt\",\"Shoes\",\"Jacket\",\"Shirt\"],\n",
        "    \"Sales\": [250,800,1000,500]\n",
        "\n",
        "})"
      ],
      "metadata": {
        "id": "RF_U7WColVKS"
      },
      "execution_count": 13,
      "outputs": []
    },
    {
      "cell_type": "code",
      "source": [
        "X = data.pivot_table(values=\"Sales\",index=\"Category\",columns=\"Product\",aggfunc=\"sum\")"
      ],
      "metadata": {
        "id": "Oxs_IT4XmPqB"
      },
      "execution_count": 14,
      "outputs": []
    },
    {
      "cell_type": "code",
      "source": [
        "X"
      ],
      "metadata": {
        "colab": {
          "base_uri": "https://localhost:8080/",
          "height": 143
        },
        "id": "_GJ_3eZQnFcc",
        "outputId": "3dd2cbc8-c900-43d8-d791-1523fbfe2923"
      },
      "execution_count": 15,
      "outputs": [
        {
          "output_type": "execute_result",
          "data": {
            "text/plain": [
              "Product     Jacket  Shirt  Shoes  T-shirt\n",
              "Category                                 \n",
              "affordable  1000.0  500.0    NaN      NaN\n",
              "luxury         NaN    NaN  800.0    250.0"
            ],
            "text/html": [
              "\n",
              "  <div id=\"df-4cf9f5ea-45f5-4d6a-979a-850df4fb93ef\" class=\"colab-df-container\">\n",
              "    <div>\n",
              "<style scoped>\n",
              "    .dataframe tbody tr th:only-of-type {\n",
              "        vertical-align: middle;\n",
              "    }\n",
              "\n",
              "    .dataframe tbody tr th {\n",
              "        vertical-align: top;\n",
              "    }\n",
              "\n",
              "    .dataframe thead th {\n",
              "        text-align: right;\n",
              "    }\n",
              "</style>\n",
              "<table border=\"1\" class=\"dataframe\">\n",
              "  <thead>\n",
              "    <tr style=\"text-align: right;\">\n",
              "      <th>Product</th>\n",
              "      <th>Jacket</th>\n",
              "      <th>Shirt</th>\n",
              "      <th>Shoes</th>\n",
              "      <th>T-shirt</th>\n",
              "    </tr>\n",
              "    <tr>\n",
              "      <th>Category</th>\n",
              "      <th></th>\n",
              "      <th></th>\n",
              "      <th></th>\n",
              "      <th></th>\n",
              "    </tr>\n",
              "  </thead>\n",
              "  <tbody>\n",
              "    <tr>\n",
              "      <th>affordable</th>\n",
              "      <td>1000.0</td>\n",
              "      <td>500.0</td>\n",
              "      <td>NaN</td>\n",
              "      <td>NaN</td>\n",
              "    </tr>\n",
              "    <tr>\n",
              "      <th>luxury</th>\n",
              "      <td>NaN</td>\n",
              "      <td>NaN</td>\n",
              "      <td>800.0</td>\n",
              "      <td>250.0</td>\n",
              "    </tr>\n",
              "  </tbody>\n",
              "</table>\n",
              "</div>\n",
              "    <div class=\"colab-df-buttons\">\n",
              "\n",
              "  <div class=\"colab-df-container\">\n",
              "    <button class=\"colab-df-convert\" onclick=\"convertToInteractive('df-4cf9f5ea-45f5-4d6a-979a-850df4fb93ef')\"\n",
              "            title=\"Convert this dataframe to an interactive table.\"\n",
              "            style=\"display:none;\">\n",
              "\n",
              "  <svg xmlns=\"http://www.w3.org/2000/svg\" height=\"24px\" viewBox=\"0 -960 960 960\">\n",
              "    <path d=\"M120-120v-720h720v720H120Zm60-500h600v-160H180v160Zm220 220h160v-160H400v160Zm0 220h160v-160H400v160ZM180-400h160v-160H180v160Zm440 0h160v-160H620v160ZM180-180h160v-160H180v160Zm440 0h160v-160H620v160Z\"/>\n",
              "  </svg>\n",
              "    </button>\n",
              "\n",
              "  <style>\n",
              "    .colab-df-container {\n",
              "      display:flex;\n",
              "      gap: 12px;\n",
              "    }\n",
              "\n",
              "    .colab-df-convert {\n",
              "      background-color: #E8F0FE;\n",
              "      border: none;\n",
              "      border-radius: 50%;\n",
              "      cursor: pointer;\n",
              "      display: none;\n",
              "      fill: #1967D2;\n",
              "      height: 32px;\n",
              "      padding: 0 0 0 0;\n",
              "      width: 32px;\n",
              "    }\n",
              "\n",
              "    .colab-df-convert:hover {\n",
              "      background-color: #E2EBFA;\n",
              "      box-shadow: 0px 1px 2px rgba(60, 64, 67, 0.3), 0px 1px 3px 1px rgba(60, 64, 67, 0.15);\n",
              "      fill: #174EA6;\n",
              "    }\n",
              "\n",
              "    .colab-df-buttons div {\n",
              "      margin-bottom: 4px;\n",
              "    }\n",
              "\n",
              "    [theme=dark] .colab-df-convert {\n",
              "      background-color: #3B4455;\n",
              "      fill: #D2E3FC;\n",
              "    }\n",
              "\n",
              "    [theme=dark] .colab-df-convert:hover {\n",
              "      background-color: #434B5C;\n",
              "      box-shadow: 0px 1px 3px 1px rgba(0, 0, 0, 0.15);\n",
              "      filter: drop-shadow(0px 1px 2px rgba(0, 0, 0, 0.3));\n",
              "      fill: #FFFFFF;\n",
              "    }\n",
              "  </style>\n",
              "\n",
              "    <script>\n",
              "      const buttonEl =\n",
              "        document.querySelector('#df-4cf9f5ea-45f5-4d6a-979a-850df4fb93ef button.colab-df-convert');\n",
              "      buttonEl.style.display =\n",
              "        google.colab.kernel.accessAllowed ? 'block' : 'none';\n",
              "\n",
              "      async function convertToInteractive(key) {\n",
              "        const element = document.querySelector('#df-4cf9f5ea-45f5-4d6a-979a-850df4fb93ef');\n",
              "        const dataTable =\n",
              "          await google.colab.kernel.invokeFunction('convertToInteractive',\n",
              "                                                    [key], {});\n",
              "        if (!dataTable) return;\n",
              "\n",
              "        const docLinkHtml = 'Like what you see? Visit the ' +\n",
              "          '<a target=\"_blank\" href=https://colab.research.google.com/notebooks/data_table.ipynb>data table notebook</a>'\n",
              "          + ' to learn more about interactive tables.';\n",
              "        element.innerHTML = '';\n",
              "        dataTable['output_type'] = 'display_data';\n",
              "        await google.colab.output.renderOutput(dataTable, element);\n",
              "        const docLink = document.createElement('div');\n",
              "        docLink.innerHTML = docLinkHtml;\n",
              "        element.appendChild(docLink);\n",
              "      }\n",
              "    </script>\n",
              "  </div>\n",
              "\n",
              "\n",
              "    <div id=\"df-e53add7a-cfc4-4a8c-a9ae-1b0eaf4c4de4\">\n",
              "      <button class=\"colab-df-quickchart\" onclick=\"quickchart('df-e53add7a-cfc4-4a8c-a9ae-1b0eaf4c4de4')\"\n",
              "                title=\"Suggest charts\"\n",
              "                style=\"display:none;\">\n",
              "\n",
              "<svg xmlns=\"http://www.w3.org/2000/svg\" height=\"24px\"viewBox=\"0 0 24 24\"\n",
              "     width=\"24px\">\n",
              "    <g>\n",
              "        <path d=\"M19 3H5c-1.1 0-2 .9-2 2v14c0 1.1.9 2 2 2h14c1.1 0 2-.9 2-2V5c0-1.1-.9-2-2-2zM9 17H7v-7h2v7zm4 0h-2V7h2v10zm4 0h-2v-4h2v4z\"/>\n",
              "    </g>\n",
              "</svg>\n",
              "      </button>\n",
              "\n",
              "<style>\n",
              "  .colab-df-quickchart {\n",
              "      --bg-color: #E8F0FE;\n",
              "      --fill-color: #1967D2;\n",
              "      --hover-bg-color: #E2EBFA;\n",
              "      --hover-fill-color: #174EA6;\n",
              "      --disabled-fill-color: #AAA;\n",
              "      --disabled-bg-color: #DDD;\n",
              "  }\n",
              "\n",
              "  [theme=dark] .colab-df-quickchart {\n",
              "      --bg-color: #3B4455;\n",
              "      --fill-color: #D2E3FC;\n",
              "      --hover-bg-color: #434B5C;\n",
              "      --hover-fill-color: #FFFFFF;\n",
              "      --disabled-bg-color: #3B4455;\n",
              "      --disabled-fill-color: #666;\n",
              "  }\n",
              "\n",
              "  .colab-df-quickchart {\n",
              "    background-color: var(--bg-color);\n",
              "    border: none;\n",
              "    border-radius: 50%;\n",
              "    cursor: pointer;\n",
              "    display: none;\n",
              "    fill: var(--fill-color);\n",
              "    height: 32px;\n",
              "    padding: 0;\n",
              "    width: 32px;\n",
              "  }\n",
              "\n",
              "  .colab-df-quickchart:hover {\n",
              "    background-color: var(--hover-bg-color);\n",
              "    box-shadow: 0 1px 2px rgba(60, 64, 67, 0.3), 0 1px 3px 1px rgba(60, 64, 67, 0.15);\n",
              "    fill: var(--button-hover-fill-color);\n",
              "  }\n",
              "\n",
              "  .colab-df-quickchart-complete:disabled,\n",
              "  .colab-df-quickchart-complete:disabled:hover {\n",
              "    background-color: var(--disabled-bg-color);\n",
              "    fill: var(--disabled-fill-color);\n",
              "    box-shadow: none;\n",
              "  }\n",
              "\n",
              "  .colab-df-spinner {\n",
              "    border: 2px solid var(--fill-color);\n",
              "    border-color: transparent;\n",
              "    border-bottom-color: var(--fill-color);\n",
              "    animation:\n",
              "      spin 1s steps(1) infinite;\n",
              "  }\n",
              "\n",
              "  @keyframes spin {\n",
              "    0% {\n",
              "      border-color: transparent;\n",
              "      border-bottom-color: var(--fill-color);\n",
              "      border-left-color: var(--fill-color);\n",
              "    }\n",
              "    20% {\n",
              "      border-color: transparent;\n",
              "      border-left-color: var(--fill-color);\n",
              "      border-top-color: var(--fill-color);\n",
              "    }\n",
              "    30% {\n",
              "      border-color: transparent;\n",
              "      border-left-color: var(--fill-color);\n",
              "      border-top-color: var(--fill-color);\n",
              "      border-right-color: var(--fill-color);\n",
              "    }\n",
              "    40% {\n",
              "      border-color: transparent;\n",
              "      border-right-color: var(--fill-color);\n",
              "      border-top-color: var(--fill-color);\n",
              "    }\n",
              "    60% {\n",
              "      border-color: transparent;\n",
              "      border-right-color: var(--fill-color);\n",
              "    }\n",
              "    80% {\n",
              "      border-color: transparent;\n",
              "      border-right-color: var(--fill-color);\n",
              "      border-bottom-color: var(--fill-color);\n",
              "    }\n",
              "    90% {\n",
              "      border-color: transparent;\n",
              "      border-bottom-color: var(--fill-color);\n",
              "    }\n",
              "  }\n",
              "</style>\n",
              "\n",
              "      <script>\n",
              "        async function quickchart(key) {\n",
              "          const quickchartButtonEl =\n",
              "            document.querySelector('#' + key + ' button');\n",
              "          quickchartButtonEl.disabled = true;  // To prevent multiple clicks.\n",
              "          quickchartButtonEl.classList.add('colab-df-spinner');\n",
              "          try {\n",
              "            const charts = await google.colab.kernel.invokeFunction(\n",
              "                'suggestCharts', [key], {});\n",
              "          } catch (error) {\n",
              "            console.error('Error during call to suggestCharts:', error);\n",
              "          }\n",
              "          quickchartButtonEl.classList.remove('colab-df-spinner');\n",
              "          quickchartButtonEl.classList.add('colab-df-quickchart-complete');\n",
              "        }\n",
              "        (() => {\n",
              "          let quickchartButtonEl =\n",
              "            document.querySelector('#df-e53add7a-cfc4-4a8c-a9ae-1b0eaf4c4de4 button');\n",
              "          quickchartButtonEl.style.display =\n",
              "            google.colab.kernel.accessAllowed ? 'block' : 'none';\n",
              "        })();\n",
              "      </script>\n",
              "    </div>\n",
              "\n",
              "  <div id=\"id_6958fef3-cec6-4acf-838a-47c81eefb684\">\n",
              "    <style>\n",
              "      .colab-df-generate {\n",
              "        background-color: #E8F0FE;\n",
              "        border: none;\n",
              "        border-radius: 50%;\n",
              "        cursor: pointer;\n",
              "        display: none;\n",
              "        fill: #1967D2;\n",
              "        height: 32px;\n",
              "        padding: 0 0 0 0;\n",
              "        width: 32px;\n",
              "      }\n",
              "\n",
              "      .colab-df-generate:hover {\n",
              "        background-color: #E2EBFA;\n",
              "        box-shadow: 0px 1px 2px rgba(60, 64, 67, 0.3), 0px 1px 3px 1px rgba(60, 64, 67, 0.15);\n",
              "        fill: #174EA6;\n",
              "      }\n",
              "\n",
              "      [theme=dark] .colab-df-generate {\n",
              "        background-color: #3B4455;\n",
              "        fill: #D2E3FC;\n",
              "      }\n",
              "\n",
              "      [theme=dark] .colab-df-generate:hover {\n",
              "        background-color: #434B5C;\n",
              "        box-shadow: 0px 1px 3px 1px rgba(0, 0, 0, 0.15);\n",
              "        filter: drop-shadow(0px 1px 2px rgba(0, 0, 0, 0.3));\n",
              "        fill: #FFFFFF;\n",
              "      }\n",
              "    </style>\n",
              "    <button class=\"colab-df-generate\" onclick=\"generateWithVariable('X')\"\n",
              "            title=\"Generate code using this dataframe.\"\n",
              "            style=\"display:none;\">\n",
              "\n",
              "  <svg xmlns=\"http://www.w3.org/2000/svg\" height=\"24px\"viewBox=\"0 0 24 24\"\n",
              "       width=\"24px\">\n",
              "    <path d=\"M7,19H8.4L18.45,9,17,7.55,7,17.6ZM5,21V16.75L18.45,3.32a2,2,0,0,1,2.83,0l1.4,1.43a1.91,1.91,0,0,1,.58,1.4,1.91,1.91,0,0,1-.58,1.4L9.25,21ZM18.45,9,17,7.55Zm-12,3A5.31,5.31,0,0,0,4.9,8.1,5.31,5.31,0,0,0,1,6.5,5.31,5.31,0,0,0,4.9,4.9,5.31,5.31,0,0,0,6.5,1,5.31,5.31,0,0,0,8.1,4.9,5.31,5.31,0,0,0,12,6.5,5.46,5.46,0,0,0,6.5,12Z\"/>\n",
              "  </svg>\n",
              "    </button>\n",
              "    <script>\n",
              "      (() => {\n",
              "      const buttonEl =\n",
              "        document.querySelector('#id_6958fef3-cec6-4acf-838a-47c81eefb684 button.colab-df-generate');\n",
              "      buttonEl.style.display =\n",
              "        google.colab.kernel.accessAllowed ? 'block' : 'none';\n",
              "\n",
              "      buttonEl.onclick = () => {\n",
              "        google.colab.notebook.generateWithVariable('X');\n",
              "      }\n",
              "      })();\n",
              "    </script>\n",
              "  </div>\n",
              "\n",
              "    </div>\n",
              "  </div>\n"
            ],
            "application/vnd.google.colaboratory.intrinsic+json": {
              "type": "dataframe",
              "variable_name": "X",
              "summary": "{\n  \"name\": \"X\",\n  \"rows\": 2,\n  \"fields\": [\n    {\n      \"column\": \"Category\",\n      \"properties\": {\n        \"dtype\": \"string\",\n        \"num_unique_values\": 2,\n        \"samples\": [\n          \"luxury\",\n          \"affordable\"\n        ],\n        \"semantic_type\": \"\",\n        \"description\": \"\"\n      }\n    },\n    {\n      \"column\": \"Jacket\",\n      \"properties\": {\n        \"dtype\": \"number\",\n        \"std\": null,\n        \"min\": 1000.0,\n        \"max\": 1000.0,\n        \"num_unique_values\": 1,\n        \"samples\": [\n          1000.0\n        ],\n        \"semantic_type\": \"\",\n        \"description\": \"\"\n      }\n    },\n    {\n      \"column\": \"Shirt\",\n      \"properties\": {\n        \"dtype\": \"number\",\n        \"std\": null,\n        \"min\": 500.0,\n        \"max\": 500.0,\n        \"num_unique_values\": 1,\n        \"samples\": [\n          500.0\n        ],\n        \"semantic_type\": \"\",\n        \"description\": \"\"\n      }\n    },\n    {\n      \"column\": \"Shoes\",\n      \"properties\": {\n        \"dtype\": \"number\",\n        \"std\": null,\n        \"min\": 800.0,\n        \"max\": 800.0,\n        \"num_unique_values\": 1,\n        \"samples\": [\n          800.0\n        ],\n        \"semantic_type\": \"\",\n        \"description\": \"\"\n      }\n    },\n    {\n      \"column\": \"T-shirt\",\n      \"properties\": {\n        \"dtype\": \"number\",\n        \"std\": null,\n        \"min\": 250.0,\n        \"max\": 250.0,\n        \"num_unique_values\": 1,\n        \"samples\": [\n          250.0\n        ],\n        \"semantic_type\": \"\",\n        \"description\": \"\"\n      }\n    }\n  ]\n}"
            }
          },
          "metadata": {},
          "execution_count": 15
        }
      ]
    },
    {
      "cell_type": "markdown",
      "source": [
        "###Q21.  Why is NumPy’s array slicing faster than Python’s list slicing ?"
      ],
      "metadata": {
        "id": "tmjsEQNani4D"
      }
    },
    {
      "cell_type": "markdown",
      "source": [
        "**ANS.**\n",
        "\n",
        "NumPy's array slicing is significantly faster than Python's list slicing due to its memory efficiency and optimized operations. Here’s why:\n",
        "\n",
        "**Key Reasons NumPy's Array Slicing is Faster:**\n",
        "\n",
        "- **Contiguous Memory Layout –** NumPy stores arrays in a contiguous block of memory, whereas Python lists store references to objects scattered across memory, making access slower.\n",
        "\n",
        "- **Vectorized Operations –** NumPy leverages low-level C implementations, reducing overhead compared to Python's dynamic list operations.\n",
        "\n",
        "- **No Type Checking Overhead –** Since NumPy arrays are homogeneous (same data type), operations are optimized, whereas Python lists require type checking for each element.\n",
        "- **Views Instead of Copies –** NumPy slicing creates views of the original array (without copying data), whereas Python lists create new objects when sliced.\n",
        "\n",
        "- **Optimized CPU Cache Utilization –** NumPy arrays utilize cache-friendly memory access, reducing latency compared to Python lists\n"
      ],
      "metadata": {
        "id": "LVeYr4HXnqrm"
      }
    },
    {
      "cell_type": "markdown",
      "source": [
        "###Q22.  What are some common use cases for Seaborn?"
      ],
      "metadata": {
        "id": "JAeUX_kTohfa"
      }
    },
    {
      "cell_type": "markdown",
      "source": [
        "**ANS.**\n",
        "Seaborn is widely used for statistical data visualization, making complex datasets easier to analyze and interpret. It's built on top of Matplotlib and integrates seamlessly with Pandas, making it a favorite among data analysts and machine learning practitioners. Here are some common use cases:\n",
        "\n",
        "**i. Exploring Data Distributions**\n",
        "\n",
        "- **Histograms & KDE Plots (sns.histplot, sns.kdeplot) –** Visualizing the distribution of fashion sales or inventory levels.\n",
        "- **Boxplots (sns.boxplot) –** Identifying outliers in customer purchase trends for RC18.\n",
        "\n",
        "**ii. Understanding Relationships Between Variables**\n",
        "- **Scatterplots (sns.scatterplot) –** Visualizing correlations between fashion pricing & demand.\n",
        "\n",
        "- **Pairplots (sns.pairplot) –** Quick multi-variable analysis, useful for finding trends in RC18’s marketing data.\n",
        "\n",
        "**iii. Analyzing Categorical Data**\n",
        "- **Bar plots (sns.barplot) –** Summarizing sales across different fashion categories.\n",
        "- **Violin plots (sns.violinplot) –** Understanding customer preference distributions for different product lines.\n",
        "\n",
        "**iv. Correlation & Heatmaps**\n",
        "- Heatmaps (sns.heatmap) – Visualizing fashion sales trends over seasons, helping optimize marketing strategies.\n",
        "\n",
        "**v.Time Series Analysis**\n",
        "- **Line plots (sns.lineplot) –** Examining RC18’s sales performance across months to forecast demand.\n",
        "\n"
      ],
      "metadata": {
        "id": "G2SrQ_5KpENS"
      }
    },
    {
      "cell_type": "markdown",
      "source": [
        "#PRACTICAL QUESTIONS;\n"
      ],
      "metadata": {
        "id": "sQ7JLm1VqvUG"
      }
    },
    {
      "cell_type": "markdown",
      "source": [
        "###Q1.  How do you create a 2D NumPy array and calculate the sum of each row?"
      ],
      "metadata": {
        "id": "kd7fX6zcq7V-"
      }
    },
    {
      "cell_type": "code",
      "source": [
        "arr = np.array([[1,5,4],[4,8,6],[7,5,3]])"
      ],
      "metadata": {
        "id": "U-RV1Vkamyn3"
      },
      "execution_count": 16,
      "outputs": []
    },
    {
      "cell_type": "code",
      "source": [
        "arr"
      ],
      "metadata": {
        "colab": {
          "base_uri": "https://localhost:8080/"
        },
        "id": "KhnprsXbraHD",
        "outputId": "df2b8c64-683f-43d6-f942-720f084a411a"
      },
      "execution_count": 18,
      "outputs": [
        {
          "output_type": "execute_result",
          "data": {
            "text/plain": [
              "array([[1, 5, 4],\n",
              "       [4, 8, 6],\n",
              "       [7, 5, 3]])"
            ]
          },
          "metadata": {},
          "execution_count": 18
        }
      ]
    },
    {
      "cell_type": "code",
      "source": [
        "np.sum(arr , axis = 1)"
      ],
      "metadata": {
        "colab": {
          "base_uri": "https://localhost:8080/"
        },
        "id": "zKE9xIlbrJYZ",
        "outputId": "995b6cbe-2c58-42d7-a9e0-50c67d865a12"
      },
      "execution_count": 17,
      "outputs": [
        {
          "output_type": "execute_result",
          "data": {
            "text/plain": [
              "array([10, 18, 15])"
            ]
          },
          "metadata": {},
          "execution_count": 17
        }
      ]
    },
    {
      "cell_type": "markdown",
      "source": [
        "###Q2. Write a Pandas script to find the mean of a specific column in a DataFrame"
      ],
      "metadata": {
        "id": "GhaSWN7Brly-"
      }
    },
    {
      "cell_type": "code",
      "source": [
        "data = pd.DataFrame({\n",
        "    \"Product\":[\"T-shirt\",\"Shoes\",\"Jacket\",\"Shirt\"],\n",
        "    \"Sales\": [250,800,1000,500]\n",
        "\n",
        "})"
      ],
      "metadata": {
        "id": "V5sDJGYWrVDU"
      },
      "execution_count": 25,
      "outputs": []
    },
    {
      "cell_type": "code",
      "source": [
        "mean_sales = data[\"Sales\"].mean()\n",
        "\n",
        "print(\"Mean Sales:\", mean_sales)"
      ],
      "metadata": {
        "colab": {
          "base_uri": "https://localhost:8080/"
        },
        "id": "SvDpAxkwr8Kv",
        "outputId": "d7ec96b1-d739-4e41-cdb8-559f96541063"
      },
      "execution_count": 28,
      "outputs": [
        {
          "output_type": "stream",
          "name": "stdout",
          "text": [
            "Mean Sales: 637.5\n"
          ]
        }
      ]
    },
    {
      "cell_type": "markdown",
      "source": [
        "###Q3. Create a scatter plot using Matplotlib"
      ],
      "metadata": {
        "id": "nJ9AkRUCtQ24"
      }
    },
    {
      "cell_type": "code",
      "source": [
        "import matplotlib.pyplot as plt\n",
        "\n",
        "\n",
        "x = [1, 2, 3, 4, 5]\n",
        "y = [10, 20, 15, 25, 30]\n",
        "\n",
        "\n",
        "plt.scatter(x, y, color='blue', marker='o', label=\"Data Points\")\n",
        "\n",
        "plt.xlabel(\"X-axis\")\n",
        "plt.ylabel(\"Y-axis\")\n",
        "plt.title(\"Sample Scatter Plot\")\n",
        "\n",
        "plt.legend()\n",
        "\n",
        "plt.show()"
      ],
      "metadata": {
        "colab": {
          "base_uri": "https://localhost:8080/",
          "height": 472
        },
        "id": "XmQyVEkFsE9M",
        "outputId": "0ae22447-e2b2-4b34-af69-f58a3e19ad45"
      },
      "execution_count": 30,
      "outputs": [
        {
          "output_type": "display_data",
          "data": {
            "text/plain": [
              "<Figure size 640x480 with 1 Axes>"
            ],
            "image/png": "[encoded data removed]"
          },
          "metadata": {}
        }
      ]
    },
    {
      "cell_type": "markdown",
      "source": [
        "###Q4. How do you calculate the correlation matrix using Seaborn and visualize it with a heatmap?"
      ],
      "metadata": {
        "id": "tC5PE60VwHhh"
      }
    },
    {
      "cell_type": "markdown",
      "source": [
        "**ANS.**\n",
        "\n",
        "You can use Seaborn to calculate abd visualise a correlation matrix using a heatmap, which help identify relationship between numerical variables."
      ],
      "metadata": {
        "id": "G5kvpS0OwYjH"
      }
    },
    {
      "cell_type": "code",
      "source": [
        "import seaborn as sns\n",
        "data =  pd.DataFrame({\n",
        "    \"sales\":[150,220,170,300,200],\n",
        "    \"stock\":[50,30,40,60,55],\n",
        "    \"customer_rating\":[4.5,3.8,4.2,4.7,3.9]\n",
        "})\n",
        "\n",
        "corr_matrix = data.corr()\n",
        "\n",
        "plt.figure(figsize=(8,6))\n",
        "sns.heatmap(corr_matrix,annot=True,cmap=\"coolwarm\",fmt =\".2f\", linewidth=0.5)\n",
        "plt.title(\"Correlation Matrix\")\n",
        "plt.show()"
      ],
      "metadata": {
        "colab": {
          "base_uri": "https://localhost:8080/",
          "height": 545
        },
        "id": "sVehXg7ctYvw",
        "outputId": "18aa7dcc-3d1b-4a7d-f0ee-21176137b525"
      },
      "execution_count": 34,
      "outputs": [
        {
          "output_type": "display_data",
          "data": {
            "text/plain": [
              "<Figure size 800x600 with 2 Axes>"
            ],
            "image/png": "[encoded data removed]"
          },
          "metadata": {}
        }
      ]
    },
    {
      "cell_type": "markdown",
      "source": [
        "###Q5. Generate a bar plot using Plotly"
      ],
      "metadata": {
        "id": "OhJ0sM7GygMO"
      }
    },
    {
      "cell_type": "code",
      "source": [
        "import plotly.express as px\n",
        "\n",
        "data = pd.DataFrame({\n",
        "    \"Product\":[\"T-shirt\",\"Shoes\",\"Jacket\",\"Shirt\"],\n",
        "    \"Sales\": [250,800,1000,500]\n",
        "\n",
        "})\n",
        "\n",
        "fig = px.bar(data,x=\"Product\",y=\"Sales\",title=\"Sales performance of RC18 product\",color=\"Product\", text_auto=True)\n",
        "fig.show()\n"
      ],
      "metadata": {
        "colab": {
          "base_uri": "https://localhost:8080/",
          "height": 542
        },
        "id": "1aZeMdNwyP29",
        "outputId": "06128af8-249b-4830-f5f6-c22f5e00be11"
      },
      "execution_count": 36,
      "outputs": [
        {
          "output_type": "display_data",
          "data": {
            "text/html": [
              "<html>\n",
              "<head><meta charset=\"utf-8\" /></head>\n",
              "<body>\n",
              "    <div>            <script src=\"https://cdnjs.cloudflare.com/ajax/libs/mathjax/2.7.5/MathJax.js?config=TeX-AMS-MML_SVG\"></script><script type=\"text/javascript\">if (window.MathJax && window.MathJax.Hub && window.MathJax.Hub.Config) {window.MathJax.Hub.Config({SVG: {font: \"STIX-Web\"}});}</script>                <script type=\"text/javascript\">window.PlotlyConfig = {MathJaxConfig: 'local'};</script>\n",
              "        <script charset=\"utf-8\" src=\"https://cdn.plot.ly/plotly-2.35.2.min.js\"></script>                <div id=\"bbcb10e3-3d3b-4aae-9cdc-dcbb6003923f\" class=\"plotly-graph-div\" style=\"height:525px; width:100%;\"></div>            <script type=\"text/javascript\">                                    window.PLOTLYENV=window.PLOTLYENV || {};                                    if (document.getElementById(\"bbcb10e3-3d3b-4aae-9cdc-dcbb6003923f\")) {                    Plotly.newPlot(                        \"bbcb10e3-3d3b-4aae-9cdc-dcbb6003923f\",                        [{\"alignmentgroup\":\"True\",\"hovertemplate\":\"Product=%{x}\\u003cbr\\u003eSales=%{y}\\u003cextra\\u003e\\u003c\\u002fextra\\u003e\",\"legendgroup\":\"T-shirt\",\"marker\":{\"color\":\"#636efa\",\"pattern\":{\"shape\":\"\"}},\"name\":\"T-shirt\",\"offsetgroup\":\"T-shirt\",\"orientation\":\"v\",\"showlegend\":true,\"textposition\":\"auto\",\"texttemplate\":\"%{y}\",\"x\":[\"T-shirt\"],\"xaxis\":\"x\",\"y\":[250],\"yaxis\":\"y\",\"type\":\"bar\"},{\"alignmentgroup\":\"True\",\"hovertemplate\":\"Product=%{x}\\u003cbr\\u003eSales=%{y}\\u003cextra\\u003e\\u003c\\u002fextra\\u003e\",\"legendgroup\":\"Shoes\",\"marker\":{\"color\":\"#EF553B\",\"pattern\":{\"shape\":\"\"}},\"name\":\"Shoes\",\"offsetgroup\":\"Shoes\",\"orientation\":\"v\",\"showlegend\":true,\"textposition\":\"auto\",\"texttemplate\":\"%{y}\",\"x\":[\"Shoes\"],\"xaxis\":\"x\",\"y\":[800],\"yaxis\":\"y\",\"type\":\"bar\"},{\"alignmentgroup\":\"True\",\"hovertemplate\":\"Product=%{x}\\u003cbr\\u003eSales=%{y}\\u003cextra\\u003e\\u003c\\u002fextra\\u003e\",\"legendgroup\":\"Jacket\",\"marker\":{\"color\":\"#00cc96\",\"pattern\":{\"shape\":\"\"}},\"name\":\"Jacket\",\"offsetgroup\":\"Jacket\",\"orientation\":\"v\",\"showlegend\":true,\"textposition\":\"auto\",\"texttemplate\":\"%{y}\",\"x\":[\"Jacket\"],\"xaxis\":\"x\",\"y\":[1000],\"yaxis\":\"y\",\"type\":\"bar\"},{\"alignmentgroup\":\"True\",\"hovertemplate\":\"Product=%{x}\\u003cbr\\u003eSales=%{y}\\u003cextra\\u003e\\u003c\\u002fextra\\u003e\",\"legendgroup\":\"Shirt\",\"marker\":{\"color\":\"#ab63fa\",\"pattern\":{\"shape\":\"\"}},\"name\":\"Shirt\",\"offsetgroup\":\"Shirt\",\"orientation\":\"v\",\"showlegend\":true,\"textposition\":\"auto\",\"texttemplate\":\"%{y}\",\"x\":[\"Shirt\"],\"xaxis\":\"x\",\"y\":[500],\"yaxis\":\"y\",\"type\":\"bar\"}],                        {\"template\":{\"data\":{\"histogram2dcontour\":[{\"type\":\"histogram2dcontour\",\"colorbar\":{\"outlinewidth\":0,\"ticks\":\"\"},\"colorscale\":[[0.0,\"#0d0887\"],[0.1111111111111111,\"#46039f\"],[0.2222222222222222,\"#7201a8\"],[0.3333333333333333,\"#9c179e\"],[0.4444444444444444,\"#bd3786\"],[0.5555555555555556,\"#d8576b\"],[0.6666666666666666,\"#ed7953\"],[0.7777777777777778,\"#fb9f3a\"],[0.8888888888888888,\"#fdca26\"],[1.0,\"#f0f921\"]]}],\"choropleth\":[{\"type\":\"choropleth\",\"colorbar\":{\"outlinewidth\":0,\"ticks\":\"\"}}],\"histogram2d\":[{\"type\":\"histogram2d\",\"colorbar\":{\"outlinewidth\":0,\"ticks\":\"\"},\"colorscale\":[[0.0,\"#0d0887\"],[0.1111111111111111,\"#46039f\"],[0.2222222222222222,\"#7201a8\"],[0.3333333333333333,\"#9c179e\"],[0.4444444444444444,\"#bd3786\"],[0.5555555555555556,\"#d8576b\"],[0.6666666666666666,\"#ed7953\"],[0.7777777777777778,\"#fb9f3a\"],[0.8888888888888888,\"#fdca26\"],[1.0,\"#f0f921\"]]}],\"heatmap\":[{\"type\":\"heatmap\",\"colorbar\":{\"outlinewidth\":0,\"ticks\":\"\"},\"colorscale\":[[0.0,\"#0d0887\"],[0.1111111111111111,\"#46039f\"],[0.2222222222222222,\"#7201a8\"],[0.3333333333333333,\"#9c179e\"],[0.4444444444444444,\"#bd3786\"],[0.5555555555555556,\"#d8576b\"],[0.6666666666666666,\"#ed7953\"],[0.7777777777777778,\"#fb9f3a\"],[0.8888888888888888,\"#fdca26\"],[1.0,\"#f0f921\"]]}],\"heatmapgl\":[{\"type\":\"heatmapgl\",\"colorbar\":{\"outlinewidth\":0,\"ticks\":\"\"},\"colorscale\":[[0.0,\"#0d0887\"],[0.1111111111111111,\"#46039f\"],[0.2222222222222222,\"#7201a8\"],[0.3333333333333333,\"#9c179e\"],[0.4444444444444444,\"#bd3786\"],[0.5555555555555556,\"#d8576b\"],[0.6666666666666666,\"#ed7953\"],[0.7777777777777778,\"#fb9f3a\"],[0.8888888888888888,\"#fdca26\"],[1.0,\"#f0f921\"]]}],\"contourcarpet\":[{\"type\":\"contourcarpet\",\"colorbar\":{\"outlinewidth\":0,\"ticks\":\"\"}}],\"contour\":[{\"type\":\"contour\",\"colorbar\":{\"outlinewidth\":0,\"ticks\":\"\"},\"colorscale\":[[0.0,\"#0d0887\"],[0.1111111111111111,\"#46039f\"],[0.2222222222222222,\"#7201a8\"],[0.3333333333333333,\"#9c179e\"],[0.4444444444444444,\"#bd3786\"],[0.5555555555555556,\"#d8576b\"],[0.6666666666666666,\"#ed7953\"],[0.7777777777777778,\"#fb9f3a\"],[0.8888888888888888,\"#fdca26\"],[1.0,\"#f0f921\"]]}],\"surface\":[{\"type\":\"surface\",\"colorbar\":{\"outlinewidth\":0,\"ticks\":\"\"},\"colorscale\":[[0.0,\"#0d0887\"],[0.1111111111111111,\"#46039f\"],[0.2222222222222222,\"#7201a8\"],[0.3333333333333333,\"#9c179e\"],[0.4444444444444444,\"#bd3786\"],[0.5555555555555556,\"#d8576b\"],[0.6666666666666666,\"#ed7953\"],[0.7777777777777778,\"#fb9f3a\"],[0.8888888888888888,\"#fdca26\"],[1.0,\"#f0f921\"]]}],\"mesh3d\":[{\"type\":\"mesh3d\",\"colorbar\":{\"outlinewidth\":0,\"ticks\":\"\"}}],\"scatter\":[{\"fillpattern\":{\"fillmode\":\"overlay\",\"size\":10,\"solidity\":0.2},\"type\":\"scatter\"}],\"parcoords\":[{\"type\":\"parcoords\",\"line\":{\"colorbar\":{\"outlinewidth\":0,\"ticks\":\"\"}}}],\"scatterpolargl\":[{\"type\":\"scatterpolargl\",\"marker\":{\"colorbar\":{\"outlinewidth\":0,\"ticks\":\"\"}}}],\"bar\":[{\"error_x\":{\"color\":\"#2a3f5f\"},\"error_y\":{\"color\":\"#2a3f5f\"},\"marker\":{\"line\":{\"color\":\"#E5ECF6\",\"width\":0.5},\"pattern\":{\"fillmode\":\"overlay\",\"size\":10,\"solidity\":0.2}},\"type\":\"bar\"}],\"scattergeo\":[{\"type\":\"scattergeo\",\"marker\":{\"colorbar\":{\"outlinewidth\":0,\"ticks\":\"\"}}}],\"scatterpolar\":[{\"type\":\"scatterpolar\",\"marker\":{\"colorbar\":{\"outlinewidth\":0,\"ticks\":\"\"}}}],\"histogram\":[{\"marker\":{\"pattern\":{\"fillmode\":\"overlay\",\"size\":10,\"solidity\":0.2}},\"type\":\"histogram\"}],\"scattergl\":[{\"type\":\"scattergl\",\"marker\":{\"colorbar\":{\"outlinewidth\":0,\"ticks\":\"\"}}}],\"scatter3d\":[{\"type\":\"scatter3d\",\"line\":{\"colorbar\":{\"outlinewidth\":0,\"ticks\":\"\"}},\"marker\":{\"colorbar\":{\"outlinewidth\":0,\"ticks\":\"\"}}}],\"scattermapbox\":[{\"type\":\"scattermapbox\",\"marker\":{\"colorbar\":{\"outlinewidth\":0,\"ticks\":\"\"}}}],\"scatterternary\":[{\"type\":\"scatterternary\",\"marker\":{\"colorbar\":{\"outlinewidth\":0,\"ticks\":\"\"}}}],\"scattercarpet\":[{\"type\":\"scattercarpet\",\"marker\":{\"colorbar\":{\"outlinewidth\":0,\"ticks\":\"\"}}}],\"carpet\":[{\"aaxis\":{\"endlinecolor\":\"#2a3f5f\",\"gridcolor\":\"white\",\"linecolor\":\"white\",\"minorgridcolor\":\"white\",\"startlinecolor\":\"#2a3f5f\"},\"baxis\":{\"endlinecolor\":\"#2a3f5f\",\"gridcolor\":\"white\",\"linecolor\":\"white\",\"minorgridcolor\":\"white\",\"startlinecolor\":\"#2a3f5f\"},\"type\":\"carpet\"}],\"table\":[{\"cells\":{\"fill\":{\"color\":\"#EBF0F8\"},\"line\":{\"color\":\"white\"}},\"header\":{\"fill\":{\"color\":\"#C8D4E3\"},\"line\":{\"color\":\"white\"}},\"type\":\"table\"}],\"barpolar\":[{\"marker\":{\"line\":{\"color\":\"#E5ECF6\",\"width\":0.5},\"pattern\":{\"fillmode\":\"overlay\",\"size\":10,\"solidity\":0.2}},\"type\":\"barpolar\"}],\"pie\":[{\"automargin\":true,\"type\":\"pie\"}]},\"layout\":{\"autotypenumbers\":\"strict\",\"colorway\":[\"#636efa\",\"#EF553B\",\"#00cc96\",\"#ab63fa\",\"#FFA15A\",\"#19d3f3\",\"#FF6692\",\"#B6E880\",\"#FF97FF\",\"#FECB52\"],\"font\":{\"color\":\"#2a3f5f\"},\"hovermode\":\"closest\",\"hoverlabel\":{\"align\":\"left\"},\"paper_bgcolor\":\"white\",\"plot_bgcolor\":\"#E5ECF6\",\"polar\":{\"bgcolor\":\"#E5ECF6\",\"angularaxis\":{\"gridcolor\":\"white\",\"linecolor\":\"white\",\"ticks\":\"\"},\"radialaxis\":{\"gridcolor\":\"white\",\"linecolor\":\"white\",\"ticks\":\"\"}},\"ternary\":{\"bgcolor\":\"#E5ECF6\",\"aaxis\":{\"gridcolor\":\"white\",\"linecolor\":\"white\",\"ticks\":\"\"},\"baxis\":{\"gridcolor\":\"white\",\"linecolor\":\"white\",\"ticks\":\"\"},\"caxis\":{\"gridcolor\":\"white\",\"linecolor\":\"white\",\"ticks\":\"\"}},\"coloraxis\":{\"colorbar\":{\"outlinewidth\":0,\"ticks\":\"\"}},\"colorscale\":{\"sequential\":[[0.0,\"#0d0887\"],[0.1111111111111111,\"#46039f\"],[0.2222222222222222,\"#7201a8\"],[0.3333333333333333,\"#9c179e\"],[0.4444444444444444,\"#bd3786\"],[0.5555555555555556,\"#d8576b\"],[0.6666666666666666,\"#ed7953\"],[0.7777777777777778,\"#fb9f3a\"],[0.8888888888888888,\"#fdca26\"],[1.0,\"#f0f921\"]],\"sequentialminus\":[[0.0,\"#0d0887\"],[0.1111111111111111,\"#46039f\"],[0.2222222222222222,\"#7201a8\"],[0.3333333333333333,\"#9c179e\"],[0.4444444444444444,\"#bd3786\"],[0.5555555555555556,\"#d8576b\"],[0.6666666666666666,\"#ed7953\"],[0.7777777777777778,\"#fb9f3a\"],[0.8888888888888888,\"#fdca26\"],[1.0,\"#f0f921\"]],\"diverging\":[[0,\"#8e0152\"],[0.1,\"#c51b7d\"],[0.2,\"#de77ae\"],[0.3,\"#f1b6da\"],[0.4,\"#fde0ef\"],[0.5,\"#f7f7f7\"],[0.6,\"#e6f5d0\"],[0.7,\"#b8e186\"],[0.8,\"#7fbc41\"],[0.9,\"#4d9221\"],[1,\"#276419\"]]},\"xaxis\":{\"gridcolor\":\"white\",\"linecolor\":\"white\",\"ticks\":\"\",\"title\":{\"standoff\":15},\"zerolinecolor\":\"white\",\"automargin\":true,\"zerolinewidth\":2},\"yaxis\":{\"gridcolor\":\"white\",\"linecolor\":\"white\",\"ticks\":\"\",\"title\":{\"standoff\":15},\"zerolinecolor\":\"white\",\"automargin\":true,\"zerolinewidth\":2},\"scene\":{\"xaxis\":{\"backgroundcolor\":\"#E5ECF6\",\"gridcolor\":\"white\",\"linecolor\":\"white\",\"showbackground\":true,\"ticks\":\"\",\"zerolinecolor\":\"white\",\"gridwidth\":2},\"yaxis\":{\"backgroundcolor\":\"#E5ECF6\",\"gridcolor\":\"white\",\"linecolor\":\"white\",\"showbackground\":true,\"ticks\":\"\",\"zerolinecolor\":\"white\",\"gridwidth\":2},\"zaxis\":{\"backgroundcolor\":\"#E5ECF6\",\"gridcolor\":\"white\",\"linecolor\":\"white\",\"showbackground\":true,\"ticks\":\"\",\"zerolinecolor\":\"white\",\"gridwidth\":2}},\"shapedefaults\":{\"line\":{\"color\":\"#2a3f5f\"}},\"annotationdefaults\":{\"arrowcolor\":\"#2a3f5f\",\"arrowhead\":0,\"arrowwidth\":1},\"geo\":{\"bgcolor\":\"white\",\"landcolor\":\"#E5ECF6\",\"subunitcolor\":\"white\",\"showland\":true,\"showlakes\":true,\"lakecolor\":\"white\"},\"title\":{\"x\":0.05},\"mapbox\":{\"style\":\"light\"}}},\"xaxis\":{\"anchor\":\"y\",\"domain\":[0.0,1.0],\"title\":{\"text\":\"Product\"},\"categoryorder\":\"array\",\"categoryarray\":[\"T-shirt\",\"Shoes\",\"Jacket\",\"Shirt\"]},\"yaxis\":{\"anchor\":\"x\",\"domain\":[0.0,1.0],\"title\":{\"text\":\"Sales\"}},\"legend\":{\"title\":{\"text\":\"Product\"},\"tracegroupgap\":0},\"title\":{\"text\":\"Sales performance of RC18 product\"},\"barmode\":\"relative\"},                        {\"responsive\": true}                    ).then(function(){\n",
              "                            \n",
              "var gd = document.getElementById('bbcb10e3-3d3b-4aae-9cdc-dcbb6003923f');\n",
              "var x = new MutationObserver(function (mutations, observer) {{\n",
              "        var display = window.getComputedStyle(gd).display;\n",
              "        if (!display || display === 'none') {{\n",
              "            console.log([gd, 'removed!']);\n",
              "            Plotly.purge(gd);\n",
              "            observer.disconnect();\n",
              "        }}\n",
              "}});\n",
              "\n",
              "// Listen for the removal of the full notebook cells\n",
              "var notebookContainer = gd.closest('#notebook-container');\n",
              "if (notebookContainer) {{\n",
              "    x.observe(notebookContainer, {childList: true});\n",
              "}}\n",
              "\n",
              "// Listen for the clearing of the current output cell\n",
              "var outputEl = gd.closest('.output');\n",
              "if (outputEl) {{\n",
              "    x.observe(outputEl, {childList: true});\n",
              "}}\n",
              "\n",
              "                        })                };                            </script>        </div>\n",
              "</body>\n",
              "</html>"
            ]
          },
          "metadata": {}
        }
      ]
    },
    {
      "cell_type": "markdown",
      "source": [
        "###Q6. Create a DataFrame and add a new column based on an existing column"
      ],
      "metadata": {
        "id": "pA-P95YJ0U71"
      }
    },
    {
      "cell_type": "code",
      "source": [
        "data = pd.DataFrame({\n",
        "    \"Product\":[\"T-shirt\",\"Shoes\",\"Jacket\",\"Shirt\"],\n",
        "    \"Sales\": [250,800,1000,500]\n",
        "    })\n",
        "\n",
        "data[\"Discount\"] = data[\"Sales\"]*0.5\n",
        "print(data)"
      ],
      "metadata": {
        "colab": {
          "base_uri": "https://localhost:8080/"
        },
        "id": "LUSm5Lgr1F3z",
        "outputId": "b3293689-1b0d-4716-a499-2cd99aff0604"
      },
      "execution_count": 42,
      "outputs": [
        {
          "output_type": "stream",
          "name": "stdout",
          "text": [
            "   Product  Sales  Discount\n",
            "0  T-shirt    250     125.0\n",
            "1    Shoes    800     400.0\n",
            "2   Jacket   1000     500.0\n",
            "3    Shirt    500     250.0\n"
          ]
        }
      ]
    },
    {
      "cell_type": "markdown",
      "source": [
        "###Q7. Write a program to perform element-wise multiplication of two NumPy arrays?"
      ],
      "metadata": {
        "id": "h4sAW5Cn13Sl"
      }
    },
    {
      "cell_type": "code",
      "source": [
        "arr1 = np.array([4,8,9])\n",
        "arr2 = np.array([5,3,7])\n",
        "np.multiply(arr1,arr2)"
      ],
      "metadata": {
        "colab": {
          "base_uri": "https://localhost:8080/"
        },
        "id": "jUgyQ7WG1eB8",
        "outputId": "fff6ca7c-d757-4251-87be-c6c2e8bbd4a4"
      },
      "execution_count": 45,
      "outputs": [
        {
          "output_type": "execute_result",
          "data": {
            "text/plain": [
              "array([20, 24, 63])"
            ]
          },
          "metadata": {},
          "execution_count": 45
        }
      ]
    },
    {
      "cell_type": "markdown",
      "source": [
        "###Q8.  Create a line plot with multiple lines using Matplotlib"
      ],
      "metadata": {
        "id": "pV1OeSHr2bPH"
      }
    },
    {
      "cell_type": "code",
      "source": [
        "import matplotlib.pyplot as plt\n",
        "\n",
        "years = [2019, 2020, 2021, 2022, 2023]\n",
        "sales_rc18 = [150, 180, 220, 250, 300]\n",
        "sales_competitor = [140, 160, 190, 230, 280]\n",
        "\n",
        "plt.plot(years, sales_rc18, marker='o', linestyle='-', color='red', label=\"RC18 Sales\")\n",
        "plt.plot(years, sales_competitor, marker='s', linestyle='--', color='blue', label=\"Competitor Sales\")\n",
        "\n",
        "plt.xlabel(\"Year\")\n",
        "plt.ylabel(\"Sales\")\n",
        "plt.title(\"Sales Growth Comparison\")\n",
        "\n",
        "plt.legend()\n",
        "\n",
        "plt.show()"
      ],
      "metadata": {
        "colab": {
          "base_uri": "https://localhost:8080/",
          "height": 472
        },
        "id": "eRAcWeMj4x86",
        "outputId": "f3bced21-10f6-48bd-ec14-22dca2932a73"
      },
      "execution_count": 51,
      "outputs": [
        {
          "output_type": "display_data",
          "data": {
            "text/plain": [
              "<Figure size 640x480 with 1 Axes>"
            ],
            "image/png": "[encoded data removed]"
          },
          "metadata": {}
        }
      ]
    },
    {
      "cell_type": "markdown",
      "source": [
        "###Q9.  Generate a Pandas DataFrame and filter rows where a column value is greater than a threshold"
      ],
      "metadata": {
        "id": "C0areopb5Suf"
      }
    },
    {
      "cell_type": "code",
      "source": [
        "data = pd.DataFrame({\n",
        "    \"Product\":[\"T-shirt\",\"Shoes\",\"Jacket\",\"Shirt\"],\n",
        "    \"Sales\": [250,800,1000,230]\n",
        "})\n",
        "\n",
        "filtered_data = data[data['Sales']> 200]\n",
        "filtered_data"
      ],
      "metadata": {
        "colab": {
          "base_uri": "https://localhost:8080/",
          "height": 175
        },
        "id": "D7IU5cjC5DDJ",
        "outputId": "d03fed28-3922-43cc-f1bd-32079c3de05f"
      },
      "execution_count": 55,
      "outputs": [
        {
          "output_type": "execute_result",
          "data": {
            "text/plain": [
              "   Product  Sales\n",
              "0  T-shirt    250\n",
              "1    Shoes    800\n",
              "2   Jacket   1000\n",
              "3    Shirt    230"
            ],
            "text/html": [
              "\n",
              "  <div id=\"df-755ce4e7-f895-4f80-8303-40a43c7f9e49\" class=\"colab-df-container\">\n",
              "    <div>\n",
              "<style scoped>\n",
              "    .dataframe tbody tr th:only-of-type {\n",
              "        vertical-align: middle;\n",
              "    }\n",
              "\n",
              "    .dataframe tbody tr th {\n",
              "        vertical-align: top;\n",
              "    }\n",
              "\n",
              "    .dataframe thead th {\n",
              "        text-align: right;\n",
              "    }\n",
              "</style>\n",
              "<table border=\"1\" class=\"dataframe\">\n",
              "  <thead>\n",
              "    <tr style=\"text-align: right;\">\n",
              "      <th></th>\n",
              "      <th>Product</th>\n",
              "      <th>Sales</th>\n",
              "    </tr>\n",
              "  </thead>\n",
              "  <tbody>\n",
              "    <tr>\n",
              "      <th>0</th>\n",
              "      <td>T-shirt</td>\n",
              "      <td>250</td>\n",
              "    </tr>\n",
              "    <tr>\n",
              "      <th>1</th>\n",
              "      <td>Shoes</td>\n",
              "      <td>800</td>\n",
              "    </tr>\n",
              "    <tr>\n",
              "      <th>2</th>\n",
              "      <td>Jacket</td>\n",
              "      <td>1000</td>\n",
              "    </tr>\n",
              "    <tr>\n",
              "      <th>3</th>\n",
              "      <td>Shirt</td>\n",
              "      <td>230</td>\n",
              "    </tr>\n",
              "  </tbody>\n",
              "</table>\n",
              "</div>\n",
              "    <div class=\"colab-df-buttons\">\n",
              "\n",
              "  <div class=\"colab-df-container\">\n",
              "    <button class=\"colab-df-convert\" onclick=\"convertToInteractive('df-755ce4e7-f895-4f80-8303-40a43c7f9e49')\"\n",
              "            title=\"Convert this dataframe to an interactive table.\"\n",
              "            style=\"display:none;\">\n",
              "\n",
              "  <svg xmlns=\"http://www.w3.org/2000/svg\" height=\"24px\" viewBox=\"0 -960 960 960\">\n",
              "    <path d=\"M120-120v-720h720v720H120Zm60-500h600v-160H180v160Zm220 220h160v-160H400v160Zm0 220h160v-160H400v160ZM180-400h160v-160H180v160Zm440 0h160v-160H620v160ZM180-180h160v-160H180v160Zm440 0h160v-160H620v160Z\"/>\n",
              "  </svg>\n",
              "    </button>\n",
              "\n",
              "  <style>\n",
              "    .colab-df-container {\n",
              "      display:flex;\n",
              "      gap: 12px;\n",
              "    }\n",
              "\n",
              "    .colab-df-convert {\n",
              "      background-color: #E8F0FE;\n",
              "      border: none;\n",
              "      border-radius: 50%;\n",
              "      cursor: pointer;\n",
              "      display: none;\n",
              "      fill: #1967D2;\n",
              "      height: 32px;\n",
              "      padding: 0 0 0 0;\n",
              "      width: 32px;\n",
              "    }\n",
              "\n",
              "    .colab-df-convert:hover {\n",
              "      background-color: #E2EBFA;\n",
              "      box-shadow: 0px 1px 2px rgba(60, 64, 67, 0.3), 0px 1px 3px 1px rgba(60, 64, 67, 0.15);\n",
              "      fill: #174EA6;\n",
              "    }\n",
              "\n",
              "    .colab-df-buttons div {\n",
              "      margin-bottom: 4px;\n",
              "    }\n",
              "\n",
              "    [theme=dark] .colab-df-convert {\n",
              "      background-color: #3B4455;\n",
              "      fill: #D2E3FC;\n",
              "    }\n",
              "\n",
              "    [theme=dark] .colab-df-convert:hover {\n",
              "      background-color: #434B5C;\n",
              "      box-shadow: 0px 1px 3px 1px rgba(0, 0, 0, 0.15);\n",
              "      filter: drop-shadow(0px 1px 2px rgba(0, 0, 0, 0.3));\n",
              "      fill: #FFFFFF;\n",
              "    }\n",
              "  </style>\n",
              "\n",
              "    <script>\n",
              "      const buttonEl =\n",
              "        document.querySelector('#df-755ce4e7-f895-4f80-8303-40a43c7f9e49 button.colab-df-convert');\n",
              "      buttonEl.style.display =\n",
              "        google.colab.kernel.accessAllowed ? 'block' : 'none';\n",
              "\n",
              "      async function convertToInteractive(key) {\n",
              "        const element = document.querySelector('#df-755ce4e7-f895-4f80-8303-40a43c7f9e49');\n",
              "        const dataTable =\n",
              "          await google.colab.kernel.invokeFunction('convertToInteractive',\n",
              "                                                    [key], {});\n",
              "        if (!dataTable) return;\n",
              "\n",
              "        const docLinkHtml = 'Like what you see? Visit the ' +\n",
              "          '<a target=\"_blank\" href=https://colab.research.google.com/notebooks/data_table.ipynb>data table notebook</a>'\n",
              "          + ' to learn more about interactive tables.';\n",
              "        element.innerHTML = '';\n",
              "        dataTable['output_type'] = 'display_data';\n",
              "        await google.colab.output.renderOutput(dataTable, element);\n",
              "        const docLink = document.createElement('div');\n",
              "        docLink.innerHTML = docLinkHtml;\n",
              "        element.appendChild(docLink);\n",
              "      }\n",
              "    </script>\n",
              "  </div>\n",
              "\n",
              "\n",
              "    <div id=\"df-f35563b8-b92d-4073-80f9-a263f2ab81f0\">\n",
              "      <button class=\"colab-df-quickchart\" onclick=\"quickchart('df-f35563b8-b92d-4073-80f9-a263f2ab81f0')\"\n",
              "                title=\"Suggest charts\"\n",
              "                style=\"display:none;\">\n",
              "\n",
              "<svg xmlns=\"http://www.w3.org/2000/svg\" height=\"24px\"viewBox=\"0 0 24 24\"\n",
              "     width=\"24px\">\n",
              "    <g>\n",
              "        <path d=\"M19 3H5c-1.1 0-2 .9-2 2v14c0 1.1.9 2 2 2h14c1.1 0 2-.9 2-2V5c0-1.1-.9-2-2-2zM9 17H7v-7h2v7zm4 0h-2V7h2v10zm4 0h-2v-4h2v4z\"/>\n",
              "    </g>\n",
              "</svg>\n",
              "      </button>\n",
              "\n",
              "<style>\n",
              "  .colab-df-quickchart {\n",
              "      --bg-color: #E8F0FE;\n",
              "      --fill-color: #1967D2;\n",
              "      --hover-bg-color: #E2EBFA;\n",
              "      --hover-fill-color: #174EA6;\n",
              "      --disabled-fill-color: #AAA;\n",
              "      --disabled-bg-color: #DDD;\n",
              "  }\n",
              "\n",
              "  [theme=dark] .colab-df-quickchart {\n",
              "      --bg-color: #3B4455;\n",
              "      --fill-color: #D2E3FC;\n",
              "      --hover-bg-color: #434B5C;\n",
              "      --hover-fill-color: #FFFFFF;\n",
              "      --disabled-bg-color: #3B4455;\n",
              "      --disabled-fill-color: #666;\n",
              "  }\n",
              "\n",
              "  .colab-df-quickchart {\n",
              "    background-color: var(--bg-color);\n",
              "    border: none;\n",
              "    border-radius: 50%;\n",
              "    cursor: pointer;\n",
              "    display: none;\n",
              "    fill: var(--fill-color);\n",
              "    height: 32px;\n",
              "    padding: 0;\n",
              "    width: 32px;\n",
              "  }\n",
              "\n",
              "  .colab-df-quickchart:hover {\n",
              "    background-color: var(--hover-bg-color);\n",
              "    box-shadow: 0 1px 2px rgba(60, 64, 67, 0.3), 0 1px 3px 1px rgba(60, 64, 67, 0.15);\n",
              "    fill: var(--button-hover-fill-color);\n",
              "  }\n",
              "\n",
              "  .colab-df-quickchart-complete:disabled,\n",
              "  .colab-df-quickchart-complete:disabled:hover {\n",
              "    background-color: var(--disabled-bg-color);\n",
              "    fill: var(--disabled-fill-color);\n",
              "    box-shadow: none;\n",
              "  }\n",
              "\n",
              "  .colab-df-spinner {\n",
              "    border: 2px solid var(--fill-color);\n",
              "    border-color: transparent;\n",
              "    border-bottom-color: var(--fill-color);\n",
              "    animation:\n",
              "      spin 1s steps(1) infinite;\n",
              "  }\n",
              "\n",
              "  @keyframes spin {\n",
              "    0% {\n",
              "      border-color: transparent;\n",
              "      border-bottom-color: var(--fill-color);\n",
              "      border-left-color: var(--fill-color);\n",
              "    }\n",
              "    20% {\n",
              "      border-color: transparent;\n",
              "      border-left-color: var(--fill-color);\n",
              "      border-top-color: var(--fill-color);\n",
              "    }\n",
              "    30% {\n",
              "      border-color: transparent;\n",
              "      border-left-color: var(--fill-color);\n",
              "      border-top-color: var(--fill-color);\n",
              "      border-right-color: var(--fill-color);\n",
              "    }\n",
              "    40% {\n",
              "      border-color: transparent;\n",
              "      border-right-color: var(--fill-color);\n",
              "      border-top-color: var(--fill-color);\n",
              "    }\n",
              "    60% {\n",
              "      border-color: transparent;\n",
              "      border-right-color: var(--fill-color);\n",
              "    }\n",
              "    80% {\n",
              "      border-color: transparent;\n",
              "      border-right-color: var(--fill-color);\n",
              "      border-bottom-color: var(--fill-color);\n",
              "    }\n",
              "    90% {\n",
              "      border-color: transparent;\n",
              "      border-bottom-color: var(--fill-color);\n",
              "    }\n",
              "  }\n",
              "</style>\n",
              "\n",
              "      <script>\n",
              "        async function quickchart(key) {\n",
              "          const quickchartButtonEl =\n",
              "            document.querySelector('#' + key + ' button');\n",
              "          quickchartButtonEl.disabled = true;  // To prevent multiple clicks.\n",
              "          quickchartButtonEl.classList.add('colab-df-spinner');\n",
              "          try {\n",
              "            const charts = await google.colab.kernel.invokeFunction(\n",
              "                'suggestCharts', [key], {});\n",
              "          } catch (error) {\n",
              "            console.error('Error during call to suggestCharts:', error);\n",
              "          }\n",
              "          quickchartButtonEl.classList.remove('colab-df-spinner');\n",
              "          quickchartButtonEl.classList.add('colab-df-quickchart-complete');\n",
              "        }\n",
              "        (() => {\n",
              "          let quickchartButtonEl =\n",
              "            document.querySelector('#df-f35563b8-b92d-4073-80f9-a263f2ab81f0 button');\n",
              "          quickchartButtonEl.style.display =\n",
              "            google.colab.kernel.accessAllowed ? 'block' : 'none';\n",
              "        })();\n",
              "      </script>\n",
              "    </div>\n",
              "\n",
              "  <div id=\"id_48c98bb3-2815-4ab6-ae19-a2fbfcd3c5ec\">\n",
              "    <style>\n",
              "      .colab-df-generate {\n",
              "        background-color: #E8F0FE;\n",
              "        border: none;\n",
              "        border-radius: 50%;\n",
              "        cursor: pointer;\n",
              "        display: none;\n",
              "        fill: #1967D2;\n",
              "        height: 32px;\n",
              "        padding: 0 0 0 0;\n",
              "        width: 32px;\n",
              "      }\n",
              "\n",
              "      .colab-df-generate:hover {\n",
              "        background-color: #E2EBFA;\n",
              "        box-shadow: 0px 1px 2px rgba(60, 64, 67, 0.3), 0px 1px 3px 1px rgba(60, 64, 67, 0.15);\n",
              "        fill: #174EA6;\n",
              "      }\n",
              "\n",
              "      [theme=dark] .colab-df-generate {\n",
              "        background-color: #3B4455;\n",
              "        fill: #D2E3FC;\n",
              "      }\n",
              "\n",
              "      [theme=dark] .colab-df-generate:hover {\n",
              "        background-color: #434B5C;\n",
              "        box-shadow: 0px 1px 3px 1px rgba(0, 0, 0, 0.15);\n",
              "        filter: drop-shadow(0px 1px 2px rgba(0, 0, 0, 0.3));\n",
              "        fill: #FFFFFF;\n",
              "      }\n",
              "    </style>\n",
              "    <button class=\"colab-df-generate\" onclick=\"generateWithVariable('filtered_data')\"\n",
              "            title=\"Generate code using this dataframe.\"\n",
              "            style=\"display:none;\">\n",
              "\n",
              "  <svg xmlns=\"http://www.w3.org/2000/svg\" height=\"24px\"viewBox=\"0 0 24 24\"\n",
              "       width=\"24px\">\n",
              "    <path d=\"M7,19H8.4L18.45,9,17,7.55,7,17.6ZM5,21V16.75L18.45,3.32a2,2,0,0,1,2.83,0l1.4,1.43a1.91,1.91,0,0,1,.58,1.4,1.91,1.91,0,0,1-.58,1.4L9.25,21ZM18.45,9,17,7.55Zm-12,3A5.31,5.31,0,0,0,4.9,8.1,5.31,5.31,0,0,0,1,6.5,5.31,5.31,0,0,0,4.9,4.9,5.31,5.31,0,0,0,6.5,1,5.31,5.31,0,0,0,8.1,4.9,5.31,5.31,0,0,0,12,6.5,5.46,5.46,0,0,0,6.5,12Z\"/>\n",
              "  </svg>\n",
              "    </button>\n",
              "    <script>\n",
              "      (() => {\n",
              "      const buttonEl =\n",
              "        document.querySelector('#id_48c98bb3-2815-4ab6-ae19-a2fbfcd3c5ec button.colab-df-generate');\n",
              "      buttonEl.style.display =\n",
              "        google.colab.kernel.accessAllowed ? 'block' : 'none';\n",
              "\n",
              "      buttonEl.onclick = () => {\n",
              "        google.colab.notebook.generateWithVariable('filtered_data');\n",
              "      }\n",
              "      })();\n",
              "    </script>\n",
              "  </div>\n",
              "\n",
              "    </div>\n",
              "  </div>\n"
            ],
            "application/vnd.google.colaboratory.intrinsic+json": {
              "type": "dataframe",
              "variable_name": "filtered_data",
              "summary": "{\n  \"name\": \"filtered_data\",\n  \"rows\": 4,\n  \"fields\": [\n    {\n      \"column\": \"Product\",\n      \"properties\": {\n        \"dtype\": \"string\",\n        \"num_unique_values\": 4,\n        \"samples\": [\n          \"Shoes\",\n          \"Shirt\",\n          \"T-shirt\"\n        ],\n        \"semantic_type\": \"\",\n        \"description\": \"\"\n      }\n    },\n    {\n      \"column\": \"Sales\",\n      \"properties\": {\n        \"dtype\": \"number\",\n        \"std\": 389,\n        \"min\": 230,\n        \"max\": 1000,\n        \"num_unique_values\": 4,\n        \"samples\": [\n          800,\n          230,\n          250\n        ],\n        \"semantic_type\": \"\",\n        \"description\": \"\"\n      }\n    }\n  ]\n}"
            }
          },
          "metadata": {},
          "execution_count": 55
        }
      ]
    },
    {
      "cell_type": "markdown",
      "source": [
        "###Q10. Create a histogram using Seaborn to visualize a distribution."
      ],
      "metadata": {
        "id": "i0YkZ8UK6V3b"
      }
    },
    {
      "cell_type": "code",
      "source": [
        "data = [150,220,180,140,300,350,160,280,400,410]\n",
        "\n",
        "sns.histplot(data, bins=5, kde=True, color = 'skyblue')\n",
        "plt.xlabel(\"value range\")\n",
        "plt.ylabel(\"Frequency\")\n",
        "plt.title(\"Distribution of Sales\")\n",
        "plt.show()"
      ],
      "metadata": {
        "colab": {
          "base_uri": "https://localhost:8080/",
          "height": 472
        },
        "id": "dIw2uvkr6AA3",
        "outputId": "2c35ed22-d81e-4e9f-edff-7813ab05d66c"
      },
      "execution_count": 56,
      "outputs": [
        {
          "output_type": "display_data",
          "data": {
            "text/plain": [
              "<Figure size 640x480 with 1 Axes>"
            ],
            "image/png": "[encoded data removed]"
          },
          "metadata": {}
        }
      ]
    },
    {
      "cell_type": "markdown",
      "source": [
        "###Q11. Perform matrix multiplication using NumPy"
      ],
      "metadata": {
        "id": "sw2gWkzW7Ppy"
      }
    },
    {
      "cell_type": "code",
      "source": [
        "Matrix_A = np.array([[4,2],\n",
        "                [4,9]])\n",
        "Matrix_B = np.array([[6,5],\n",
        "                [9,5]])\n",
        "\n",
        "X = np.dot(Matrix_A,Matrix_B)\n",
        "\n",
        "print(X)"
      ],
      "metadata": {
        "colab": {
          "base_uri": "https://localhost:8080/"
        },
        "id": "HioXv6gh7GXv",
        "outputId": "7bea0c22-afc4-4a4c-e7f3-451279d59790"
      },
      "execution_count": 57,
      "outputs": [
        {
          "output_type": "stream",
          "name": "stdout",
          "text": [
            "[[ 42  30]\n",
            " [105  65]]\n"
          ]
        }
      ]
    },
    {
      "cell_type": "markdown",
      "source": [
        "###Q12.  Use Pandas to load a CSV file and display its first 5 rows"
      ],
      "metadata": {
        "id": "sluwJ5Pl9A6A"
      }
    },
    {
      "cell_type": "code",
      "source": [
        "df = pd.read_csv(\"Brothers.csv\")"
      ],
      "metadata": {
        "id": "JxW0WEhK9jFE"
      },
      "execution_count": 61,
      "outputs": []
    },
    {
      "cell_type": "code",
      "source": [
        "df.head(5)"
      ],
      "metadata": {
        "colab": {
          "base_uri": "https://localhost:8080/",
          "height": 175
        },
        "id": "2pBqOwvg-GhH",
        "outputId": "22756893-46b0-4c62-b345-05b9cde52309"
      },
      "execution_count": 63,
      "outputs": [
        {
          "output_type": "execute_result",
          "data": {
            "text/plain": [
              "   Unnamed: 0     Name     Cars         City\n",
              "0           0   Manish     Audi    Ghaziabad\n",
              "1           1   Deepak     Thar        Siwan\n",
              "2           2  Dheeraj  scorpio  Mohan Nagar\n",
              "3           3  Prakash   Xuv700        Patna"
            ],
            "text/html": [
              "\n",
              "  <div id=\"df-db458c9d-eb74-4a3e-a33e-d47dcd8fbe66\" class=\"colab-df-container\">\n",
              "    <div>\n",
              "<style scoped>\n",
              "    .dataframe tbody tr th:only-of-type {\n",
              "        vertical-align: middle;\n",
              "    }\n",
              "\n",
              "    .dataframe tbody tr th {\n",
              "        vertical-align: top;\n",
              "    }\n",
              "\n",
              "    .dataframe thead th {\n",
              "        text-align: right;\n",
              "    }\n",
              "</style>\n",
              "<table border=\"1\" class=\"dataframe\">\n",
              "  <thead>\n",
              "    <tr style=\"text-align: right;\">\n",
              "      <th></th>\n",
              "      <th>Unnamed: 0</th>\n",
              "      <th>Name</th>\n",
              "      <th>Cars</th>\n",
              "      <th>City</th>\n",
              "    </tr>\n",
              "  </thead>\n",
              "  <tbody>\n",
              "    <tr>\n",
              "      <th>0</th>\n",
              "      <td>0</td>\n",
              "      <td>Manish</td>\n",
              "      <td>Audi</td>\n",
              "      <td>Ghaziabad</td>\n",
              "    </tr>\n",
              "    <tr>\n",
              "      <th>1</th>\n",
              "      <td>1</td>\n",
              "      <td>Deepak</td>\n",
              "      <td>Thar</td>\n",
              "      <td>Siwan</td>\n",
              "    </tr>\n",
              "    <tr>\n",
              "      <th>2</th>\n",
              "      <td>2</td>\n",
              "      <td>Dheeraj</td>\n",
              "      <td>scorpio</td>\n",
              "      <td>Mohan Nagar</td>\n",
              "    </tr>\n",
              "    <tr>\n",
              "      <th>3</th>\n",
              "      <td>3</td>\n",
              "      <td>Prakash</td>\n",
              "      <td>Xuv700</td>\n",
              "      <td>Patna</td>\n",
              "    </tr>\n",
              "  </tbody>\n",
              "</table>\n",
              "</div>\n",
              "    <div class=\"colab-df-buttons\">\n",
              "\n",
              "  <div class=\"colab-df-container\">\n",
              "    <button class=\"colab-df-convert\" onclick=\"convertToInteractive('df-db458c9d-eb74-4a3e-a33e-d47dcd8fbe66')\"\n",
              "            title=\"Convert this dataframe to an interactive table.\"\n",
              "            style=\"display:none;\">\n",
              "\n",
              "  <svg xmlns=\"http://www.w3.org/2000/svg\" height=\"24px\" viewBox=\"0 -960 960 960\">\n",
              "    <path d=\"M120-120v-720h720v720H120Zm60-500h600v-160H180v160Zm220 220h160v-160H400v160Zm0 220h160v-160H400v160ZM180-400h160v-160H180v160Zm440 0h160v-160H620v160ZM180-180h160v-160H180v160Zm440 0h160v-160H620v160Z\"/>\n",
              "  </svg>\n",
              "    </button>\n",
              "\n",
              "  <style>\n",
              "    .colab-df-container {\n",
              "      display:flex;\n",
              "      gap: 12px;\n",
              "    }\n",
              "\n",
              "    .colab-df-convert {\n",
              "      background-color: #E8F0FE;\n",
              "      border: none;\n",
              "      border-radius: 50%;\n",
              "      cursor: pointer;\n",
              "      display: none;\n",
              "      fill: #1967D2;\n",
              "      height: 32px;\n",
              "      padding: 0 0 0 0;\n",
              "      width: 32px;\n",
              "    }\n",
              "\n",
              "    .colab-df-convert:hover {\n",
              "      background-color: #E2EBFA;\n",
              "      box-shadow: 0px 1px 2px rgba(60, 64, 67, 0.3), 0px 1px 3px 1px rgba(60, 64, 67, 0.15);\n",
              "      fill: #174EA6;\n",
              "    }\n",
              "\n",
              "    .colab-df-buttons div {\n",
              "      margin-bottom: 4px;\n",
              "    }\n",
              "\n",
              "    [theme=dark] .colab-df-convert {\n",
              "      background-color: #3B4455;\n",
              "      fill: #D2E3FC;\n",
              "    }\n",
              "\n",
              "    [theme=dark] .colab-df-convert:hover {\n",
              "      background-color: #434B5C;\n",
              "      box-shadow: 0px 1px 3px 1px rgba(0, 0, 0, 0.15);\n",
              "      filter: drop-shadow(0px 1px 2px rgba(0, 0, 0, 0.3));\n",
              "      fill: #FFFFFF;\n",
              "    }\n",
              "  </style>\n",
              "\n",
              "    <script>\n",
              "      const buttonEl =\n",
              "        document.querySelector('#df-db458c9d-eb74-4a3e-a33e-d47dcd8fbe66 button.colab-df-convert');\n",
              "      buttonEl.style.display =\n",
              "        google.colab.kernel.accessAllowed ? 'block' : 'none';\n",
              "\n",
              "      async function convertToInteractive(key) {\n",
              "        const element = document.querySelector('#df-db458c9d-eb74-4a3e-a33e-d47dcd8fbe66');\n",
              "        const dataTable =\n",
              "          await google.colab.kernel.invokeFunction('convertToInteractive',\n",
              "                                                    [key], {});\n",
              "        if (!dataTable) return;\n",
              "\n",
              "        const docLinkHtml = 'Like what you see? Visit the ' +\n",
              "          '<a target=\"_blank\" href=https://colab.research.google.com/notebooks/data_table.ipynb>data table notebook</a>'\n",
              "          + ' to learn more about interactive tables.';\n",
              "        element.innerHTML = '';\n",
              "        dataTable['output_type'] = 'display_data';\n",
              "        await google.colab.output.renderOutput(dataTable, element);\n",
              "        const docLink = document.createElement('div');\n",
              "        docLink.innerHTML = docLinkHtml;\n",
              "        element.appendChild(docLink);\n",
              "      }\n",
              "    </script>\n",
              "  </div>\n",
              "\n",
              "\n",
              "    <div id=\"df-6689ea69-ac6d-4712-b0ad-c17c98786bcc\">\n",
              "      <button class=\"colab-df-quickchart\" onclick=\"quickchart('df-6689ea69-ac6d-4712-b0ad-c17c98786bcc')\"\n",
              "                title=\"Suggest charts\"\n",
              "                style=\"display:none;\">\n",
              "\n",
              "<svg xmlns=\"http://www.w3.org/2000/svg\" height=\"24px\"viewBox=\"0 0 24 24\"\n",
              "     width=\"24px\">\n",
              "    <g>\n",
              "        <path d=\"M19 3H5c-1.1 0-2 .9-2 2v14c0 1.1.9 2 2 2h14c1.1 0 2-.9 2-2V5c0-1.1-.9-2-2-2zM9 17H7v-7h2v7zm4 0h-2V7h2v10zm4 0h-2v-4h2v4z\"/>\n",
              "    </g>\n",
              "</svg>\n",
              "      </button>\n",
              "\n",
              "<style>\n",
              "  .colab-df-quickchart {\n",
              "      --bg-color: #E8F0FE;\n",
              "      --fill-color: #1967D2;\n",
              "      --hover-bg-color: #E2EBFA;\n",
              "      --hover-fill-color: #174EA6;\n",
              "      --disabled-fill-color: #AAA;\n",
              "      --disabled-bg-color: #DDD;\n",
              "  }\n",
              "\n",
              "  [theme=dark] .colab-df-quickchart {\n",
              "      --bg-color: #3B4455;\n",
              "      --fill-color: #D2E3FC;\n",
              "      --hover-bg-color: #434B5C;\n",
              "      --hover-fill-color: #FFFFFF;\n",
              "      --disabled-bg-color: #3B4455;\n",
              "      --disabled-fill-color: #666;\n",
              "  }\n",
              "\n",
              "  .colab-df-quickchart {\n",
              "    background-color: var(--bg-color);\n",
              "    border: none;\n",
              "    border-radius: 50%;\n",
              "    cursor: pointer;\n",
              "    display: none;\n",
              "    fill: var(--fill-color);\n",
              "    height: 32px;\n",
              "    padding: 0;\n",
              "    width: 32px;\n",
              "  }\n",
              "\n",
              "  .colab-df-quickchart:hover {\n",
              "    background-color: var(--hover-bg-color);\n",
              "    box-shadow: 0 1px 2px rgba(60, 64, 67, 0.3), 0 1px 3px 1px rgba(60, 64, 67, 0.15);\n",
              "    fill: var(--button-hover-fill-color);\n",
              "  }\n",
              "\n",
              "  .colab-df-quickchart-complete:disabled,\n",
              "  .colab-df-quickchart-complete:disabled:hover {\n",
              "    background-color: var(--disabled-bg-color);\n",
              "    fill: var(--disabled-fill-color);\n",
              "    box-shadow: none;\n",
              "  }\n",
              "\n",
              "  .colab-df-spinner {\n",
              "    border: 2px solid var(--fill-color);\n",
              "    border-color: transparent;\n",
              "    border-bottom-color: var(--fill-color);\n",
              "    animation:\n",
              "      spin 1s steps(1) infinite;\n",
              "  }\n",
              "\n",
              "  @keyframes spin {\n",
              "    0% {\n",
              "      border-color: transparent;\n",
              "      border-bottom-color: var(--fill-color);\n",
              "      border-left-color: var(--fill-color);\n",
              "    }\n",
              "    20% {\n",
              "      border-color: transparent;\n",
              "      border-left-color: var(--fill-color);\n",
              "      border-top-color: var(--fill-color);\n",
              "    }\n",
              "    30% {\n",
              "      border-color: transparent;\n",
              "      border-left-color: var(--fill-color);\n",
              "      border-top-color: var(--fill-color);\n",
              "      border-right-color: var(--fill-color);\n",
              "    }\n",
              "    40% {\n",
              "      border-color: transparent;\n",
              "      border-right-color: var(--fill-color);\n",
              "      border-top-color: var(--fill-color);\n",
              "    }\n",
              "    60% {\n",
              "      border-color: transparent;\n",
              "      border-right-color: var(--fill-color);\n",
              "    }\n",
              "    80% {\n",
              "      border-color: transparent;\n",
              "      border-right-color: var(--fill-color);\n",
              "      border-bottom-color: var(--fill-color);\n",
              "    }\n",
              "    90% {\n",
              "      border-color: transparent;\n",
              "      border-bottom-color: var(--fill-color);\n",
              "    }\n",
              "  }\n",
              "</style>\n",
              "\n",
              "      <script>\n",
              "        async function quickchart(key) {\n",
              "          const quickchartButtonEl =\n",
              "            document.querySelector('#' + key + ' button');\n",
              "          quickchartButtonEl.disabled = true;  // To prevent multiple clicks.\n",
              "          quickchartButtonEl.classList.add('colab-df-spinner');\n",
              "          try {\n",
              "            const charts = await google.colab.kernel.invokeFunction(\n",
              "                'suggestCharts', [key], {});\n",
              "          } catch (error) {\n",
              "            console.error('Error during call to suggestCharts:', error);\n",
              "          }\n",
              "          quickchartButtonEl.classList.remove('colab-df-spinner');\n",
              "          quickchartButtonEl.classList.add('colab-df-quickchart-complete');\n",
              "        }\n",
              "        (() => {\n",
              "          let quickchartButtonEl =\n",
              "            document.querySelector('#df-6689ea69-ac6d-4712-b0ad-c17c98786bcc button');\n",
              "          quickchartButtonEl.style.display =\n",
              "            google.colab.kernel.accessAllowed ? 'block' : 'none';\n",
              "        })();\n",
              "      </script>\n",
              "    </div>\n",
              "\n",
              "    </div>\n",
              "  </div>\n"
            ],
            "application/vnd.google.colaboratory.intrinsic+json": {
              "type": "dataframe",
              "variable_name": "df",
              "summary": "{\n  \"name\": \"df\",\n  \"rows\": 4,\n  \"fields\": [\n    {\n      \"column\": \"Unnamed: 0\",\n      \"properties\": {\n        \"dtype\": \"number\",\n        \"std\": 1,\n        \"min\": 0,\n        \"max\": 3,\n        \"num_unique_values\": 4,\n        \"samples\": [\n          1,\n          3,\n          0\n        ],\n        \"semantic_type\": \"\",\n        \"description\": \"\"\n      }\n    },\n    {\n      \"column\": \"Name\",\n      \"properties\": {\n        \"dtype\": \"string\",\n        \"num_unique_values\": 4,\n        \"samples\": [\n          \"Deepak\",\n          \"Prakash\",\n          \"Manish\"\n        ],\n        \"semantic_type\": \"\",\n        \"description\": \"\"\n      }\n    },\n    {\n      \"column\": \"Cars\",\n      \"properties\": {\n        \"dtype\": \"string\",\n        \"num_unique_values\": 4,\n        \"samples\": [\n          \"Thar\",\n          \"Xuv700\",\n          \"Audi\"\n        ],\n        \"semantic_type\": \"\",\n        \"description\": \"\"\n      }\n    },\n    {\n      \"column\": \"City\",\n      \"properties\": {\n        \"dtype\": \"string\",\n        \"num_unique_values\": 4,\n        \"samples\": [\n          \"Siwan\",\n          \"Patna\",\n          \"Ghaziabad\"\n        ],\n        \"semantic_type\": \"\",\n        \"description\": \"\"\n      }\n    }\n  ]\n}"
            }
          },
          "metadata": {},
          "execution_count": 63
        }
      ]
    },
    {
      "cell_type": "markdown",
      "source": [
        "###Q15. Create a 3D scatter plot using Plotly."
      ],
      "metadata": {
        "id": "2TBuJkXy-kgY"
      }
    },
    {
      "cell_type": "code",
      "source": [
        "df = px.data.iris()\n",
        "fig = px.scatter_3d(df, x= 'sepal_length', y='sepal_width', z='petal_width', color='species')\n",
        "fig.show()"
      ],
      "metadata": {
        "colab": {
          "base_uri": "https://localhost:8080/",
          "height": 542
        },
        "id": "NV3dVF6J-QnC",
        "outputId": "a3c667a9-0cd3-42a1-f944-400af134d2fa"
      },
      "execution_count": 65,
      "outputs": [
        {
          "output_type": "display_data",
          "data": {
            "text/html": [
              "<html>\n",
              "<head><meta charset=\"utf-8\" /></head>\n",
              "<body>\n",
              "    <div>            <script src=\"https://cdnjs.cloudflare.com/ajax/libs/mathjax/2.7.5/MathJax.js?config=TeX-AMS-MML_SVG\"></script><script type=\"text/javascript\">if (window.MathJax && window.MathJax.Hub && window.MathJax.Hub.Config) {window.MathJax.Hub.Config({SVG: {font: \"STIX-Web\"}});}</script>                <script type=\"text/javascript\">window.PlotlyConfig = {MathJaxConfig: 'local'};</script>\n",
              "        <script charset=\"utf-8\" src=\"https://cdn.plot.ly/plotly-2.35.2.min.js\"></script>                <div id=\"b9489f63-b473-41d9-a431-6e03fdc0bb5e\" class=\"plotly-graph-div\" style=\"height:525px; width:100%;\"></div>            <script type=\"text/javascript\">                                    window.PLOTLYENV=window.PLOTLYENV || {};                                    if (document.getElementById(\"b9489f63-b473-41d9-a431-6e03fdc0bb5e\")) {                    Plotly.newPlot(                        \"b9489f63-b473-41d9-a431-6e03fdc0bb5e\",                        [{\"hovertemplate\":\"species=setosa\\u003cbr\\u003esepal_length=%{x}\\u003cbr\\u003esepal_width=%{y}\\u003cbr\\u003epetal_width=%{z}\\u003cextra\\u003e\\u003c\\u002fextra\\u003e\",\"legendgroup\":\"setosa\",\"marker\":{\"color\":\"#636efa\",\"symbol\":\"circle\"},\"mode\":\"markers\",\"name\":\"setosa\",\"scene\":\"scene\",\"showlegend\":true,\"x\":[5.1,4.9,4.7,4.6,5.0,5.4,4.6,5.0,4.4,4.9,5.4,4.8,4.8,4.3,5.8,5.7,5.4,5.1,5.7,5.1,5.4,5.1,4.6,5.1,4.8,5.0,5.0,5.2,5.2,4.7,4.8,5.4,5.2,5.5,4.9,5.0,5.5,4.9,4.4,5.1,5.0,4.5,4.4,5.0,5.1,4.8,5.1,4.6,5.3,5.0],\"y\":[3.5,3.0,3.2,3.1,3.6,3.9,3.4,3.4,2.9,3.1,3.7,3.4,3.0,3.0,4.0,4.4,3.9,3.5,3.8,3.8,3.4,3.7,3.6,3.3,3.4,3.0,3.4,3.5,3.4,3.2,3.1,3.4,4.1,4.2,3.1,3.2,3.5,3.1,3.0,3.4,3.5,2.3,3.2,3.5,3.8,3.0,3.8,3.2,3.7,3.3],\"z\":[0.2,0.2,0.2,0.2,0.2,0.4,0.3,0.2,0.2,0.1,0.2,0.2,0.1,0.1,0.2,0.4,0.4,0.3,0.3,0.3,0.2,0.4,0.2,0.5,0.2,0.2,0.4,0.2,0.2,0.2,0.2,0.4,0.1,0.2,0.1,0.2,0.2,0.1,0.2,0.2,0.3,0.3,0.2,0.6,0.4,0.3,0.2,0.2,0.2,0.2],\"type\":\"scatter3d\"},{\"hovertemplate\":\"species=versicolor\\u003cbr\\u003esepal_length=%{x}\\u003cbr\\u003esepal_width=%{y}\\u003cbr\\u003epetal_width=%{z}\\u003cextra\\u003e\\u003c\\u002fextra\\u003e\",\"legendgroup\":\"versicolor\",\"marker\":{\"color\":\"#EF553B\",\"symbol\":\"circle\"},\"mode\":\"markers\",\"name\":\"versicolor\",\"scene\":\"scene\",\"showlegend\":true,\"x\":[7.0,6.4,6.9,5.5,6.5,5.7,6.3,4.9,6.6,5.2,5.0,5.9,6.0,6.1,5.6,6.7,5.6,5.8,6.2,5.6,5.9,6.1,6.3,6.1,6.4,6.6,6.8,6.7,6.0,5.7,5.5,5.5,5.8,6.0,5.4,6.0,6.7,6.3,5.6,5.5,5.5,6.1,5.8,5.0,5.6,5.7,5.7,6.2,5.1,5.7],\"y\":[3.2,3.2,3.1,2.3,2.8,2.8,3.3,2.4,2.9,2.7,2.0,3.0,2.2,2.9,2.9,3.1,3.0,2.7,2.2,2.5,3.2,2.8,2.5,2.8,2.9,3.0,2.8,3.0,2.9,2.6,2.4,2.4,2.7,2.7,3.0,3.4,3.1,2.3,3.0,2.5,2.6,3.0,2.6,2.3,2.7,3.0,2.9,2.9,2.5,2.8],\"z\":[1.4,1.5,1.5,1.3,1.5,1.3,1.6,1.0,1.3,1.4,1.0,1.5,1.0,1.4,1.3,1.4,1.5,1.0,1.5,1.1,1.8,1.3,1.5,1.2,1.3,1.4,1.4,1.7,1.5,1.0,1.1,1.0,1.2,1.6,1.5,1.6,1.5,1.3,1.3,1.3,1.2,1.4,1.2,1.0,1.3,1.2,1.3,1.3,1.1,1.3],\"type\":\"scatter3d\"},{\"hovertemplate\":\"species=virginica\\u003cbr\\u003esepal_length=%{x}\\u003cbr\\u003esepal_width=%{y}\\u003cbr\\u003epetal_width=%{z}\\u003cextra\\u003e\\u003c\\u002fextra\\u003e\",\"legendgroup\":\"virginica\",\"marker\":{\"color\":\"#00cc96\",\"symbol\":\"circle\"},\"mode\":\"markers\",\"name\":\"virginica\",\"scene\":\"scene\",\"showlegend\":true,\"x\":[6.3,5.8,7.1,6.3,6.5,7.6,4.9,7.3,6.7,7.2,6.5,6.4,6.8,5.7,5.8,6.4,6.5,7.7,7.7,6.0,6.9,5.6,7.7,6.3,6.7,7.2,6.2,6.1,6.4,7.2,7.4,7.9,6.4,6.3,6.1,7.7,6.3,6.4,6.0,6.9,6.7,6.9,5.8,6.8,6.7,6.7,6.3,6.5,6.2,5.9],\"y\":[3.3,2.7,3.0,2.9,3.0,3.0,2.5,2.9,2.5,3.6,3.2,2.7,3.0,2.5,2.8,3.2,3.0,3.8,2.6,2.2,3.2,2.8,2.8,2.7,3.3,3.2,2.8,3.0,2.8,3.0,2.8,3.8,2.8,2.8,2.6,3.0,3.4,3.1,3.0,3.1,3.1,3.1,2.7,3.2,3.3,3.0,2.5,3.0,3.4,3.0],\"z\":[2.5,1.9,2.1,1.8,2.2,2.1,1.7,1.8,1.8,2.5,2.0,1.9,2.1,2.0,2.4,2.3,1.8,2.2,2.3,1.5,2.3,2.0,2.0,1.8,2.1,1.8,1.8,1.8,2.1,1.6,1.9,2.0,2.2,1.5,1.4,2.3,2.4,1.8,1.8,2.1,2.4,2.3,1.9,2.3,2.5,2.3,1.9,2.0,2.3,1.8],\"type\":\"scatter3d\"}],                        {\"template\":{\"data\":{\"histogram2dcontour\":[{\"type\":\"histogram2dcontour\",\"colorbar\":{\"outlinewidth\":0,\"ticks\":\"\"},\"colorscale\":[[0.0,\"#0d0887\"],[0.1111111111111111,\"#46039f\"],[0.2222222222222222,\"#7201a8\"],[0.3333333333333333,\"#9c179e\"],[0.4444444444444444,\"#bd3786\"],[0.5555555555555556,\"#d8576b\"],[0.6666666666666666,\"#ed7953\"],[0.7777777777777778,\"#fb9f3a\"],[0.8888888888888888,\"#fdca26\"],[1.0,\"#f0f921\"]]}],\"choropleth\":[{\"type\":\"choropleth\",\"colorbar\":{\"outlinewidth\":0,\"ticks\":\"\"}}],\"histogram2d\":[{\"type\":\"histogram2d\",\"colorbar\":{\"outlinewidth\":0,\"ticks\":\"\"},\"colorscale\":[[0.0,\"#0d0887\"],[0.1111111111111111,\"#46039f\"],[0.2222222222222222,\"#7201a8\"],[0.3333333333333333,\"#9c179e\"],[0.4444444444444444,\"#bd3786\"],[0.5555555555555556,\"#d8576b\"],[0.6666666666666666,\"#ed7953\"],[0.7777777777777778,\"#fb9f3a\"],[0.8888888888888888,\"#fdca26\"],[1.0,\"#f0f921\"]]}],\"heatmap\":[{\"type\":\"heatmap\",\"colorbar\":{\"outlinewidth\":0,\"ticks\":\"\"},\"colorscale\":[[0.0,\"#0d0887\"],[0.1111111111111111,\"#46039f\"],[0.2222222222222222,\"#7201a8\"],[0.3333333333333333,\"#9c179e\"],[0.4444444444444444,\"#bd3786\"],[0.5555555555555556,\"#d8576b\"],[0.6666666666666666,\"#ed7953\"],[0.7777777777777778,\"#fb9f3a\"],[0.8888888888888888,\"#fdca26\"],[1.0,\"#f0f921\"]]}],\"heatmapgl\":[{\"type\":\"heatmapgl\",\"colorbar\":{\"outlinewidth\":0,\"ticks\":\"\"},\"colorscale\":[[0.0,\"#0d0887\"],[0.1111111111111111,\"#46039f\"],[0.2222222222222222,\"#7201a8\"],[0.3333333333333333,\"#9c179e\"],[0.4444444444444444,\"#bd3786\"],[0.5555555555555556,\"#d8576b\"],[0.6666666666666666,\"#ed7953\"],[0.7777777777777778,\"#fb9f3a\"],[0.8888888888888888,\"#fdca26\"],[1.0,\"#f0f921\"]]}],\"contourcarpet\":[{\"type\":\"contourcarpet\",\"colorbar\":{\"outlinewidth\":0,\"ticks\":\"\"}}],\"contour\":[{\"type\":\"contour\",\"colorbar\":{\"outlinewidth\":0,\"ticks\":\"\"},\"colorscale\":[[0.0,\"#0d0887\"],[0.1111111111111111,\"#46039f\"],[0.2222222222222222,\"#7201a8\"],[0.3333333333333333,\"#9c179e\"],[0.4444444444444444,\"#bd3786\"],[0.5555555555555556,\"#d8576b\"],[0.6666666666666666,\"#ed7953\"],[0.7777777777777778,\"#fb9f3a\"],[0.8888888888888888,\"#fdca26\"],[1.0,\"#f0f921\"]]}],\"surface\":[{\"type\":\"surface\",\"colorbar\":{\"outlinewidth\":0,\"ticks\":\"\"},\"colorscale\":[[0.0,\"#0d0887\"],[0.1111111111111111,\"#46039f\"],[0.2222222222222222,\"#7201a8\"],[0.3333333333333333,\"#9c179e\"],[0.4444444444444444,\"#bd3786\"],[0.5555555555555556,\"#d8576b\"],[0.6666666666666666,\"#ed7953\"],[0.7777777777777778,\"#fb9f3a\"],[0.8888888888888888,\"#fdca26\"],[1.0,\"#f0f921\"]]}],\"mesh3d\":[{\"type\":\"mesh3d\",\"colorbar\":{\"outlinewidth\":0,\"ticks\":\"\"}}],\"scatter\":[{\"fillpattern\":{\"fillmode\":\"overlay\",\"size\":10,\"solidity\":0.2},\"type\":\"scatter\"}],\"parcoords\":[{\"type\":\"parcoords\",\"line\":{\"colorbar\":{\"outlinewidth\":0,\"ticks\":\"\"}}}],\"scatterpolargl\":[{\"type\":\"scatterpolargl\",\"marker\":{\"colorbar\":{\"outlinewidth\":0,\"ticks\":\"\"}}}],\"bar\":[{\"error_x\":{\"color\":\"#2a3f5f\"},\"error_y\":{\"color\":\"#2a3f5f\"},\"marker\":{\"line\":{\"color\":\"#E5ECF6\",\"width\":0.5},\"pattern\":{\"fillmode\":\"overlay\",\"size\":10,\"solidity\":0.2}},\"type\":\"bar\"}],\"scattergeo\":[{\"type\":\"scattergeo\",\"marker\":{\"colorbar\":{\"outlinewidth\":0,\"ticks\":\"\"}}}],\"scatterpolar\":[{\"type\":\"scatterpolar\",\"marker\":{\"colorbar\":{\"outlinewidth\":0,\"ticks\":\"\"}}}],\"histogram\":[{\"marker\":{\"pattern\":{\"fillmode\":\"overlay\",\"size\":10,\"solidity\":0.2}},\"type\":\"histogram\"}],\"scattergl\":[{\"type\":\"scattergl\",\"marker\":{\"colorbar\":{\"outlinewidth\":0,\"ticks\":\"\"}}}],\"scatter3d\":[{\"type\":\"scatter3d\",\"line\":{\"colorbar\":{\"outlinewidth\":0,\"ticks\":\"\"}},\"marker\":{\"colorbar\":{\"outlinewidth\":0,\"ticks\":\"\"}}}],\"scattermapbox\":[{\"type\":\"scattermapbox\",\"marker\":{\"colorbar\":{\"outlinewidth\":0,\"ticks\":\"\"}}}],\"scatterternary\":[{\"type\":\"scatterternary\",\"marker\":{\"colorbar\":{\"outlinewidth\":0,\"ticks\":\"\"}}}],\"scattercarpet\":[{\"type\":\"scattercarpet\",\"marker\":{\"colorbar\":{\"outlinewidth\":0,\"ticks\":\"\"}}}],\"carpet\":[{\"aaxis\":{\"endlinecolor\":\"#2a3f5f\",\"gridcolor\":\"white\",\"linecolor\":\"white\",\"minorgridcolor\":\"white\",\"startlinecolor\":\"#2a3f5f\"},\"baxis\":{\"endlinecolor\":\"#2a3f5f\",\"gridcolor\":\"white\",\"linecolor\":\"white\",\"minorgridcolor\":\"white\",\"startlinecolor\":\"#2a3f5f\"},\"type\":\"carpet\"}],\"table\":[{\"cells\":{\"fill\":{\"color\":\"#EBF0F8\"},\"line\":{\"color\":\"white\"}},\"header\":{\"fill\":{\"color\":\"#C8D4E3\"},\"line\":{\"color\":\"white\"}},\"type\":\"table\"}],\"barpolar\":[{\"marker\":{\"line\":{\"color\":\"#E5ECF6\",\"width\":0.5},\"pattern\":{\"fillmode\":\"overlay\",\"size\":10,\"solidity\":0.2}},\"type\":\"barpolar\"}],\"pie\":[{\"automargin\":true,\"type\":\"pie\"}]},\"layout\":{\"autotypenumbers\":\"strict\",\"colorway\":[\"#636efa\",\"#EF553B\",\"#00cc96\",\"#ab63fa\",\"#FFA15A\",\"#19d3f3\",\"#FF6692\",\"#B6E880\",\"#FF97FF\",\"#FECB52\"],\"font\":{\"color\":\"#2a3f5f\"},\"hovermode\":\"closest\",\"hoverlabel\":{\"align\":\"left\"},\"paper_bgcolor\":\"white\",\"plot_bgcolor\":\"#E5ECF6\",\"polar\":{\"bgcolor\":\"#E5ECF6\",\"angularaxis\":{\"gridcolor\":\"white\",\"linecolor\":\"white\",\"ticks\":\"\"},\"radialaxis\":{\"gridcolor\":\"white\",\"linecolor\":\"white\",\"ticks\":\"\"}},\"ternary\":{\"bgcolor\":\"#E5ECF6\",\"aaxis\":{\"gridcolor\":\"white\",\"linecolor\":\"white\",\"ticks\":\"\"},\"baxis\":{\"gridcolor\":\"white\",\"linecolor\":\"white\",\"ticks\":\"\"},\"caxis\":{\"gridcolor\":\"white\",\"linecolor\":\"white\",\"ticks\":\"\"}},\"coloraxis\":{\"colorbar\":{\"outlinewidth\":0,\"ticks\":\"\"}},\"colorscale\":{\"sequential\":[[0.0,\"#0d0887\"],[0.1111111111111111,\"#46039f\"],[0.2222222222222222,\"#7201a8\"],[0.3333333333333333,\"#9c179e\"],[0.4444444444444444,\"#bd3786\"],[0.5555555555555556,\"#d8576b\"],[0.6666666666666666,\"#ed7953\"],[0.7777777777777778,\"#fb9f3a\"],[0.8888888888888888,\"#fdca26\"],[1.0,\"#f0f921\"]],\"sequentialminus\":[[0.0,\"#0d0887\"],[0.1111111111111111,\"#46039f\"],[0.2222222222222222,\"#7201a8\"],[0.3333333333333333,\"#9c179e\"],[0.4444444444444444,\"#bd3786\"],[0.5555555555555556,\"#d8576b\"],[0.6666666666666666,\"#ed7953\"],[0.7777777777777778,\"#fb9f3a\"],[0.8888888888888888,\"#fdca26\"],[1.0,\"#f0f921\"]],\"diverging\":[[0,\"#8e0152\"],[0.1,\"#c51b7d\"],[0.2,\"#de77ae\"],[0.3,\"#f1b6da\"],[0.4,\"#fde0ef\"],[0.5,\"#f7f7f7\"],[0.6,\"#e6f5d0\"],[0.7,\"#b8e186\"],[0.8,\"#7fbc41\"],[0.9,\"#4d9221\"],[1,\"#276419\"]]},\"xaxis\":{\"gridcolor\":\"white\",\"linecolor\":\"white\",\"ticks\":\"\",\"title\":{\"standoff\":15},\"zerolinecolor\":\"white\",\"automargin\":true,\"zerolinewidth\":2},\"yaxis\":{\"gridcolor\":\"white\",\"linecolor\":\"white\",\"ticks\":\"\",\"title\":{\"standoff\":15},\"zerolinecolor\":\"white\",\"automargin\":true,\"zerolinewidth\":2},\"scene\":{\"xaxis\":{\"backgroundcolor\":\"#E5ECF6\",\"gridcolor\":\"white\",\"linecolor\":\"white\",\"showbackground\":true,\"ticks\":\"\",\"zerolinecolor\":\"white\",\"gridwidth\":2},\"yaxis\":{\"backgroundcolor\":\"#E5ECF6\",\"gridcolor\":\"white\",\"linecolor\":\"white\",\"showbackground\":true,\"ticks\":\"\",\"zerolinecolor\":\"white\",\"gridwidth\":2},\"zaxis\":{\"backgroundcolor\":\"#E5ECF6\",\"gridcolor\":\"white\",\"linecolor\":\"white\",\"showbackground\":true,\"ticks\":\"\",\"zerolinecolor\":\"white\",\"gridwidth\":2}},\"shapedefaults\":{\"line\":{\"color\":\"#2a3f5f\"}},\"annotationdefaults\":{\"arrowcolor\":\"#2a3f5f\",\"arrowhead\":0,\"arrowwidth\":1},\"geo\":{\"bgcolor\":\"white\",\"landcolor\":\"#E5ECF6\",\"subunitcolor\":\"white\",\"showland\":true,\"showlakes\":true,\"lakecolor\":\"white\"},\"title\":{\"x\":0.05},\"mapbox\":{\"style\":\"light\"}}},\"scene\":{\"domain\":{\"x\":[0.0,1.0],\"y\":[0.0,1.0]},\"xaxis\":{\"title\":{\"text\":\"sepal_length\"}},\"yaxis\":{\"title\":{\"text\":\"sepal_width\"}},\"zaxis\":{\"title\":{\"text\":\"petal_width\"}}},\"legend\":{\"title\":{\"text\":\"species\"},\"tracegroupgap\":0},\"margin\":{\"t\":60}},                        {\"responsive\": true}                    ).then(function(){\n",
              "                            \n",
              "var gd = document.getElementById('b9489f63-b473-41d9-a431-6e03fdc0bb5e');\n",
              "var x = new MutationObserver(function (mutations, observer) {{\n",
              "        var display = window.getComputedStyle(gd).display;\n",
              "        if (!display || display === 'none') {{\n",
              "            console.log([gd, 'removed!']);\n",
              "            Plotly.purge(gd);\n",
              "            observer.disconnect();\n",
              "        }}\n",
              "}});\n",
              "\n",
              "// Listen for the removal of the full notebook cells\n",
              "var notebookContainer = gd.closest('#notebook-container');\n",
              "if (notebookContainer) {{\n",
              "    x.observe(notebookContainer, {childList: true});\n",
              "}}\n",
              "\n",
              "// Listen for the clearing of the current output cell\n",
              "var outputEl = gd.closest('.output');\n",
              "if (outputEl) {{\n",
              "    x.observe(outputEl, {childList: true});\n",
              "}}\n",
              "\n",
              "                        })                };                            </script>        </div>\n",
              "</body>\n",
              "</html>"
            ]
          },
          "metadata": {}
        }
      ]
    },
    {
      "cell_type": "code",
      "source": [],
      "metadata": {
        "id": "ttJhiwTr-8mo"
      },
      "execution_count": null,
      "outputs": []
    }
  ]
}